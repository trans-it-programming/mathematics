{
 "cells": [
  {
   "cell_type": "markdown",
   "id": "0f0ce147-1f03-4936-93b8-58e187850ef2",
   "metadata": {},
   "source": [
    "# 1. 数と式\n",
    "## 1-3. 平方根と絶対値"
   ]
  },
  {
   "cell_type": "code",
   "execution_count": 1,
   "id": "1c05ec6c-2c9c-47c7-b04c-e869b9eaba2f",
   "metadata": {},
   "outputs": [
    {
     "data": {
      "text/html": [
       "<style>\n",
       "  h4 {\n",
       "      padding: 8px;\n",
       "      border: 1px solid black;\n",
       "  }\n",
       "  table {\n",
       "    float: left;\n",
       "  }\n",
       "</style>\n"
      ],
      "text/plain": [
       "<IPython.core.display.HTML object>"
      ]
     },
     "metadata": {},
     "output_type": "display_data"
    }
   ],
   "source": [
    "%%html\n",
    "<style>\n",
    "  h4 {\n",
    "      padding: 8px;\n",
    "      border: 1px solid black;\n",
    "  }\n",
    "  table {\n",
    "    float: left;\n",
    "  }\n",
    "</style>"
   ]
  },
  {
   "cell_type": "markdown",
   "id": "5e0b1a8f-8a94-4553-8f33-3e6d3405f518",
   "metadata": {},
   "source": [
    "##### 分母の有理化\n",
    "- ${\\displaystyle \\frac{b}{\\sqrt{a}}=\\frac{b\\times\\sqrt{a}}{\\sqrt{a}\\times\\sqrt{a}}=\\frac{\\sqrt{a}\\times b}{a}}$\n",
    "- ${\\displaystyle \\frac{c}{\\sqrt{a}+\\sqrt{b}}=\\frac{c\\times (\\sqrt{a}-\\sqrt{b})}{(\\sqrt{a}+\\sqrt{b})\\times (\\sqrt{a}-\\sqrt{b})}=\\frac{c\\times (\\sqrt{a}-\\sqrt{b})}{a-b}}$\n",
    "\n",
    "##### 二重根号の取り外し\n",
    "- $\\sqrt{(a+b)+2\\sqrt{ab}}=\\sqrt{a}+\\sqrt{b}$\n",
    "\n",
    "$(a+b)+2\\sqrt{ab}=(\\sqrt{a}+\\sqrt{b})^{2}$ となるので与式は $\\sqrt{(\\sqrt{a}+\\sqrt{b})^{2}}$ となる。\n",
    "\n",
    "##### 絶対値の定義\n",
    "- $|x|=\\Biggl\\{\n",
    "\\begin{matrix}\n",
    "   -x & (x < 0) \\\\\n",
    "  x & (x \\ge 0)\n",
    "\\end{matrix}$\n",
    "\n",
    "##### 絶対値の性質\n",
    "- $\\sqrt{a^{2}} = |a|$\n",
    "- $|a|^{2}=a^{2}$"
   ]
  },
  {
   "cell_type": "markdown",
   "id": "55a318c0-2659-451a-b84a-eb3246d0f4b0",
   "metadata": {},
   "source": [
    "### Python\n",
    "##### 平方根\n",
    "$\\sqrt{a}$\n",
    "```\n",
    "sympy.sqrt(a)\n",
    "```\n",
    "平方根は英語で \"square root\"。sqrt はそれを略したもの。\n",
    "\n",
    "##### 分母の有理化\n",
    "```\n",
    "sympy.radsimp([式])\n",
    "```\n",
    "radical (根号) simplification (簡略化) の略\n",
    "\n",
    "##### 二重根号の取り外し\n",
    "```\n",
    "sympy.sqrtdenest([式])\n",
    "```\n",
    "sqrt (square root: 平方根) + denest。平方根の中の平方根の様に、あるものの中に同じ構造があるものを「入れ子　(nest)」と言うが、denest には入れ子を外すという意味がある。\n",
    "\n",
    "##### 絶対値\n",
    "a の絶対値\n",
    "```\n",
    "sympy.Abs(a)\n",
    "```\n",
    "絶対値は英語で absolute value"
   ]
  },
  {
   "cell_type": "code",
   "execution_count": 2,
   "id": "0d2aec34-fd2a-4d43-864b-8501410bf661",
   "metadata": {},
   "outputs": [],
   "source": [
    "import sympy"
   ]
  },
  {
   "cell_type": "code",
   "execution_count": 3,
   "id": "8c5061ff-5947-4803-a0dd-598f77ef31cf",
   "metadata": {},
   "outputs": [
    {
     "data": {
      "text/plain": [
       "(a, b, c)"
      ]
     },
     "execution_count": 3,
     "metadata": {},
     "output_type": "execute_result"
    }
   ],
   "source": [
    "a = sympy.Symbol('a')\n",
    "b = sympy.Symbol('b')\n",
    "c = sympy.Symbol('c')\n",
    "\n",
    "a, b, c"
   ]
  },
  {
   "cell_type": "markdown",
   "id": "cbfdca5b-7bcf-41e8-b255-c1e5d275fa60",
   "metadata": {},
   "source": [
    "#### 分母の有理化\n",
    "- ${\\displaystyle \\frac{b}{\\sqrt{a}}=\\frac{b\\times\\sqrt{a}}{\\sqrt{a}\\times\\sqrt{a}}=\\frac{\\sqrt{a}\\times b}{a}}$\n",
    "- ${\\displaystyle \\frac{c}{\\sqrt{a}+\\sqrt{b}}=\\frac{c\\times (\\sqrt{a}-\\sqrt{b})}{(\\sqrt{a}+\\sqrt{b})\\times (\\sqrt{a}-\\sqrt{b})}=\\frac{c\\times (\\sqrt{a}-\\sqrt{b})}{a-b}}$"
   ]
  },
  {
   "cell_type": "markdown",
   "id": "a7756354-9839-4ad4-aa9c-65a373bc2bb1",
   "metadata": {},
   "source": [
    "##### 例"
   ]
  },
  {
   "cell_type": "markdown",
   "id": "0e4b24ef-963e-4249-ad10-824f14f629c9",
   "metadata": {},
   "source": [
    "- ${\\displaystyle \\frac{1}{\\sqrt{2}}}$"
   ]
  },
  {
   "cell_type": "code",
   "execution_count": 4,
   "id": "2f18faf6-9e46-4576-9ad2-a30dd7095bbf",
   "metadata": {},
   "outputs": [
    {
     "data": {
      "text/latex": [
       "$\\displaystyle \\frac{\\sqrt{2}}{2}$"
      ],
      "text/plain": [
       "sqrt(2)/2"
      ]
     },
     "execution_count": 4,
     "metadata": {},
     "output_type": "execute_result"
    }
   ],
   "source": [
    "expr1 = 1 / sympy.sqrt(2)\n",
    "sympy.radsimp(expr1)"
   ]
  },
  {
   "cell_type": "markdown",
   "id": "cc92405f-3892-497f-9090-690da28d48bb",
   "metadata": {},
   "source": [
    "${\\displaystyle (与式)=\\frac{1\\times\\sqrt{2}}{\\sqrt{2}\\times\\sqrt{2}}}$"
   ]
  },
  {
   "cell_type": "markdown",
   "id": "1a206149-bc90-4993-9a98-7d78fe8fde2d",
   "metadata": {},
   "source": [
    "- ${\\displaystyle \\frac{6\\sqrt{5}}{\\sqrt{3}}}$"
   ]
  },
  {
   "cell_type": "code",
   "execution_count": 5,
   "id": "a51e27c6-7a03-4be4-a0ca-1f1a2a546584",
   "metadata": {},
   "outputs": [
    {
     "data": {
      "text/latex": [
       "$\\displaystyle 2 \\sqrt{15}$"
      ],
      "text/plain": [
       "2*sqrt(15)"
      ]
     },
     "execution_count": 5,
     "metadata": {},
     "output_type": "execute_result"
    }
   ],
   "source": [
    "expr2 = 6 * sympy.sqrt(5) / sympy.sqrt(3)\n",
    "sympy.radsimp(expr2)"
   ]
  },
  {
   "cell_type": "markdown",
   "id": "989f10d0-5faa-4e61-9758-fa86e0b5f752",
   "metadata": {},
   "source": [
    "$(与式)={\\displaystyle \\frac{6\\sqrt{5}}{\\sqrt{3}}=\\frac{6\\sqrt{5}\\times\\sqrt{3}}{\\sqrt{3}\\times\\sqrt{3}}=\\frac{6\\sqrt{15}}{3}}$"
   ]
  },
  {
   "cell_type": "markdown",
   "id": "d4440da7-91ac-4e36-9e93-3d592dfe0888",
   "metadata": {},
   "source": [
    "- ${\\displaystyle \\frac{1}{\\sqrt{5}+\\sqrt{2}}}$"
   ]
  },
  {
   "cell_type": "code",
   "execution_count": 6,
   "id": "5b556c7a-c72d-407f-acb8-9a1aa1417918",
   "metadata": {},
   "outputs": [
    {
     "data": {
      "text/latex": [
       "$\\displaystyle \\frac{- \\sqrt{2} + \\sqrt{5}}{3}$"
      ],
      "text/plain": [
       "(-sqrt(2) + sqrt(5))/3"
      ]
     },
     "execution_count": 6,
     "metadata": {},
     "output_type": "execute_result"
    }
   ],
   "source": [
    "expr3 = 1 / (sympy.sqrt(5) + sympy.sqrt(2))\n",
    "sympy.radsimp(expr3)"
   ]
  },
  {
   "cell_type": "markdown",
   "id": "7b0cb6b7-b071-4667-9182-03a993e0c76b",
   "metadata": {},
   "source": [
    "- $(与式)={\\displaystyle \\frac{1\\times(\\sqrt{5}-\\sqrt{2})}{(\\sqrt{5}+\\sqrt{2})\\times (\\sqrt{5}-\\sqrt{2})}=\\frac{\\sqrt{5}-\\sqrt{2}}{5-2}}$"
   ]
  },
  {
   "cell_type": "markdown",
   "id": "9cc99bfb-4347-45e7-a396-d33dc4f10bd0",
   "metadata": {},
   "source": [
    "- ${\\displaystyle \\frac{2\\sqrt{3}}{\\sqrt{13}-\\sqrt{11}}}$"
   ]
  },
  {
   "cell_type": "code",
   "execution_count": 7,
   "id": "d21fcf6b-d733-4d07-8fff-3fa3385eddbd",
   "metadata": {},
   "outputs": [
    {
     "data": {
      "text/latex": [
       "$\\displaystyle \\sqrt{33} + \\sqrt{39}$"
      ],
      "text/plain": [
       "sqrt(33) + sqrt(39)"
      ]
     },
     "execution_count": 7,
     "metadata": {},
     "output_type": "execute_result"
    }
   ],
   "source": [
    "expr4 = (2 * sympy.sqrt(3)) / (sympy.sqrt(13) - sympy.sqrt(11))\n",
    "sympy.radsimp(expr4)"
   ]
  },
  {
   "cell_type": "markdown",
   "id": "9d828cb4-fe4e-4b39-89b8-256e27d8e980",
   "metadata": {},
   "source": [
    "(与式)=${\\displaystyle \\frac{2\\sqrt{3}\\times (\\sqrt{13}+\\sqrt{11})}{(\\sqrt{13}-\\sqrt{11})\\times (\\sqrt{13}+\\sqrt{11})}=\\frac{2\\times (\\sqrt{39}+\\sqrt{33})}{13-11}}$"
   ]
  },
  {
   "cell_type": "markdown",
   "id": "4b83eec2-0bc3-41ff-86d0-9386521a6a31",
   "metadata": {},
   "source": [
    "#### 二重根号の取り外し\n",
    "- $\\sqrt{(a+b)+2\\sqrt{ab}}=\\sqrt{a}+\\sqrt{b}$"
   ]
  },
  {
   "cell_type": "markdown",
   "id": "b5e13f9e-b8d9-43fe-86f0-a09902aabfab",
   "metadata": {},
   "source": [
    "##### 例"
   ]
  },
  {
   "cell_type": "markdown",
   "id": "30a3339d-34be-46ac-a67e-b870c29c8d37",
   "metadata": {},
   "source": [
    "- $\\sqrt{5+2\\sqrt{6}}$"
   ]
  },
  {
   "cell_type": "code",
   "execution_count": 8,
   "id": "d8e665ae-7f79-47ac-8b6a-587d289bbf68",
   "metadata": {},
   "outputs": [
    {
     "data": {
      "text/latex": [
       "$\\displaystyle \\sqrt{2} + \\sqrt{3}$"
      ],
      "text/plain": [
       "sqrt(2) + sqrt(3)"
      ]
     },
     "execution_count": 8,
     "metadata": {},
     "output_type": "execute_result"
    }
   ],
   "source": [
    "expr5 = sympy.sqrt(5 + 2 * sympy.sqrt(6))\n",
    "sympy.sqrtdenest(expr5)"
   ]
  },
  {
   "cell_type": "markdown",
   "id": "23333258-daf1-43d5-8b43-d339dbf4ed47",
   "metadata": {},
   "source": [
    "- $\\sqrt{4+\\sqrt{15}}$"
   ]
  },
  {
   "cell_type": "code",
   "execution_count": 9,
   "id": "c5ec585b-190c-4932-a3c2-3548c4e71e3a",
   "metadata": {},
   "outputs": [
    {
     "data": {
      "text/latex": [
       "$\\displaystyle \\frac{\\sqrt{6}}{2} + \\frac{\\sqrt{10}}{2}$"
      ],
      "text/plain": [
       "sqrt(6)/2 + sqrt(10)/2"
      ]
     },
     "execution_count": 9,
     "metadata": {},
     "output_type": "execute_result"
    }
   ],
   "source": [
    "expr6 = sympy.sqrt(4 + sympy.sqrt(15))\n",
    "sympy.sqrtdenest(expr6)"
   ]
  },
  {
   "cell_type": "markdown",
   "id": "df555af0-c7c9-4e8f-8486-d8c8dfa416a0",
   "metadata": {},
   "source": [
    "(与式)$=\\sqrt{\\displaystyle \\frac{8+2\\sqrt{15}}{2}}={\\displaystyle \\frac{\\sqrt{8+2\\sqrt{15}}}{\\sqrt{2}}=\\frac{\\sqrt{3}+\\sqrt{5}}{\\sqrt{2}}}$\n",
    "\n",
    "有理化をするとプログラムの結果と同じになる。"
   ]
  },
  {
   "cell_type": "markdown",
   "id": "d6e6771d-8382-409e-be6d-169d5617d6f7",
   "metadata": {},
   "source": [
    "#### 絶対値"
   ]
  },
  {
   "cell_type": "markdown",
   "id": "ccdcec07-63c5-4de4-9a77-1e00d75b8577",
   "metadata": {},
   "source": [
    "##### 例"
   ]
  },
  {
   "cell_type": "markdown",
   "id": "cb1d0fe5-f713-48c9-bd5b-c23c8eaa553f",
   "metadata": {},
   "source": [
    "- $|-5|=5$"
   ]
  },
  {
   "cell_type": "code",
   "execution_count": 10,
   "id": "9dcb8fe5-e933-4e71-b883-c68a0f84b508",
   "metadata": {},
   "outputs": [
    {
     "data": {
      "text/latex": [
       "$\\displaystyle 5$"
      ],
      "text/plain": [
       "5"
      ]
     },
     "execution_count": 10,
     "metadata": {},
     "output_type": "execute_result"
    }
   ],
   "source": [
    "expr7 = sympy.Abs(-5)\n",
    "expr7"
   ]
  },
  {
   "cell_type": "markdown",
   "id": "da09a14e-2765-45ec-be5f-ab834cc0a301",
   "metadata": {},
   "source": [
    "- $\\sqrt{(-3)^{2}} = |-3|$"
   ]
  },
  {
   "cell_type": "code",
   "execution_count": 11,
   "id": "36f1f72b-8e29-4076-ae7d-9eb8b564203e",
   "metadata": {},
   "outputs": [
    {
     "data": {
      "text/plain": [
       "(3, 3)"
      ]
     },
     "execution_count": 11,
     "metadata": {},
     "output_type": "execute_result"
    }
   ],
   "source": [
    "expr8 = sympy.sqrt((-3) ** 2)\n",
    "expr9 = sympy.Abs(-3)\n",
    "\n",
    "expr8, expr9"
   ]
  },
  {
   "cell_type": "markdown",
   "id": "196d3284-b55a-48e4-8974-6a9dd179b591",
   "metadata": {},
   "source": [
    "- $|-4|^{2}=(-4)^{2}$"
   ]
  },
  {
   "cell_type": "code",
   "execution_count": 12,
   "id": "88d9ff80-acb7-41fe-a6ca-15578e89a836",
   "metadata": {},
   "outputs": [
    {
     "data": {
      "text/plain": [
       "(16, 16)"
      ]
     },
     "execution_count": 12,
     "metadata": {},
     "output_type": "execute_result"
    }
   ],
   "source": [
    "expr10 = (sympy.Abs(-4)) ** 2\n",
    "expr11 = (-4) ** 2\n",
    "\n",
    "expr10, expr11"
   ]
  },
  {
   "cell_type": "markdown",
   "id": "3618fd70-a197-42dc-9b8e-d2641415e521",
   "metadata": {},
   "source": [
    "#### 演習問題"
   ]
  },
  {
   "cell_type": "markdown",
   "id": "f93220c2-4d2d-4ce4-882c-397e486a0d35",
   "metadata": {},
   "source": [
    "(1) ${\\displaystyle \\frac{1}{\\displaystyle 1-\\frac{1}{\\displaystyle 1+\\frac{1}{\\sqrt{2} -1}}}}$"
   ]
  },
  {
   "cell_type": "code",
   "execution_count": 13,
   "id": "e01a72f0-f86b-4837-a2b6-0d7e390def30",
   "metadata": {},
   "outputs": [
    {
     "data": {
      "text/latex": [
       "$\\displaystyle \\sqrt{2}$"
      ],
      "text/plain": [
       "sqrt(2)"
      ]
     },
     "execution_count": 13,
     "metadata": {},
     "output_type": "execute_result"
    }
   ],
   "source": [
    "expr12 = 1 / (1 - (1 / (1 + (1 / (sympy.sqrt(2) - 1)))))\n",
    "sympy.radsimp(expr12)"
   ]
  },
  {
   "cell_type": "markdown",
   "id": "89490c0c-ce85-4adb-9dba-1edbc86f96ac",
   "metadata": {},
   "source": [
    "(与式) \n",
    "$={\\displaystyle \\frac{1}{\\displaystyle 1-\\frac{1\\times (\\sqrt{2}-1)}{\\Biggl({\\displaystyle 1+\\frac{1}{\\sqrt{2} -1}}\\Biggr)\\times (\\sqrt{2}-1)}}}$\n",
    "$={\\displaystyle \\frac{1}{\\displaystyle 1-\\frac{\\sqrt{2}-1}{\\displaystyle (\\sqrt{2}-1)+1}}}$\n",
    "$={\\displaystyle \\frac{1}{\\displaystyle 1-\\frac{\\sqrt{2}-1}{\\sqrt{2}}}}$\n",
    "$={\\displaystyle \\frac{1\\times\\sqrt{2}}{\\Biggl({\\displaystyle 1-\\frac{\\sqrt{2}-1}{\\sqrt{2}}}\\Biggr)\\times\\sqrt{2}}}$\n",
    "$={\\displaystyle \\frac{\\sqrt{2}}{\\displaystyle \\sqrt{2}-(\\sqrt{2}-1)}}$\n",
    "$={\\displaystyle \\frac{\\sqrt{2}}{1}}$"
   ]
  },
  {
   "cell_type": "code",
   "execution_count": null,
   "id": "f6434e1b-9163-4c4e-a90a-7f3fe18f1929",
   "metadata": {},
   "outputs": [],
   "source": []
  }
 ],
 "metadata": {
  "kernelspec": {
   "display_name": "Python 3 (ipykernel)",
   "language": "python",
   "name": "python3"
  },
  "language_info": {
   "codemirror_mode": {
    "name": "ipython",
    "version": 3
   },
   "file_extension": ".py",
   "mimetype": "text/x-python",
   "name": "python",
   "nbconvert_exporter": "python",
   "pygments_lexer": "ipython3",
   "version": "3.11.4"
  }
 },
 "nbformat": 4,
 "nbformat_minor": 5
}
