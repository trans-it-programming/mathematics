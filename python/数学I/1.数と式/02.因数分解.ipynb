{
 "cells": [
  {
   "cell_type": "markdown",
   "id": "9df32edf-d770-4011-8c90-10fac4513841",
   "metadata": {},
   "source": [
    "# 1. 数と式\n",
    "## 1-2. 展開と因数分解"
   ]
  },
  {
   "cell_type": "code",
   "execution_count": 1,
   "id": "6e8fe297-4dad-4d1e-b399-38fcedacf045",
   "metadata": {},
   "outputs": [
    {
     "data": {
      "text/html": [
       "<style>\n",
       "  h4 {\n",
       "      padding: 8px;\n",
       "      border: 1px solid black;\n",
       "  }\n",
       "  table {\n",
       "    float: left;\n",
       "  }\n",
       "</style>\n"
      ],
      "text/plain": [
       "<IPython.core.display.HTML object>"
      ]
     },
     "metadata": {},
     "output_type": "display_data"
    }
   ],
   "source": [
    "%%html\n",
    "<style>\n",
    "  h4 {\n",
    "      padding: 8px;\n",
    "      border: 1px solid black;\n",
    "  }\n",
    "  table {\n",
    "    float: left;\n",
    "  }\n",
    "</style>"
   ]
  },
  {
   "cell_type": "markdown",
   "id": "fedade75-c14f-4a94-8472-8a79dd9635aa",
   "metadata": {},
   "source": [
    "- 展開: 足し算の形で表す\n",
    "- 因数分解: 掛け算の形で表す\n",
    "\n",
    "|展開|因数分解|\n",
    "|-|-|\n",
    "|$x^{2}+(a+b)x+ab$|$(x+a)(x+b)$|\n",
    "|$acx^{2}+(ad+bc)x+bd$|$(ax+b)(cx+d)$|\n",
    "|$x^{2}+2xy+y^{2}$|$(x+y)^{2}$|\n",
    "|$x^{2}-2xy+y^{2}$|$(x-y)^{2}$|\n",
    "|$x^{2}-y^{2}$|$(x+y)(x-y)$|\n",
    "|$x^{3}+3x^{2}y+3xy^{2}+y^{3}$|$(x+y)^{3}$|\n",
    "|$x^{3}-3x^{2}y+3xy^{2}-y^{3}$|$(x-y)^{3}$|\n",
    "|$x^{3}+y^{3}$|$(x+y)(x^{2}-xy+y^{2})$|\n",
    "|$x^{3}-y^{3}$|$(x-y)(x^{2}+xy+y^{2})$|\n",
    "|$x^{2}+y^{2}+z^{2}+2xy+2yz+2zx$|$(x+y+z)^{2}$|\n",
    "|$x^{3}+y^{3}+z^{3}-3xyz$|$(x+y+z)(x^{2}+y^{2}+z^{2}-xy-yz-zx)$|"
   ]
  },
  {
   "cell_type": "markdown",
   "id": "dedf1676-e979-4c1a-9d74-7016e66afb93",
   "metadata": {},
   "source": [
    "### Python\n",
    "##### 展開\n",
    "```\n",
    "sympy.expand([式])\n",
    "```\n",
    "数式の「展開」は英語で expand\n",
    "##### 因数分解\n",
    "```\n",
    "sympy.factor([式])\n",
    "```\n",
    "factor 一般的に「要素」という意味だが、数学の「因数 (掛け算を構成する要素)」の意味もある。\n",
    "ちなみに「因数分解」を英語で言うと \"factorization\""
   ]
  },
  {
   "cell_type": "code",
   "execution_count": 2,
   "id": "1f054438-b00b-43a9-835c-ab72740108f5",
   "metadata": {},
   "outputs": [],
   "source": [
    "import sympy"
   ]
  },
  {
   "cell_type": "code",
   "execution_count": 3,
   "id": "f1095c7f-9476-47ca-bb8b-31c8b049149d",
   "metadata": {},
   "outputs": [
    {
     "data": {
      "text/plain": [
       "(x, y, z)"
      ]
     },
     "execution_count": 3,
     "metadata": {},
     "output_type": "execute_result"
    }
   ],
   "source": [
    "x = sympy.Symbol('x')\n",
    "y = sympy.Symbol('y')\n",
    "z = sympy.Symbol('z')\n",
    "\n",
    "x, y, z"
   ]
  },
  {
   "cell_type": "markdown",
   "id": "be216a10-de0b-453e-af95-37b705bb2b7f",
   "metadata": {},
   "source": [
    "#### $(x+a)(x+b)=x^{2}+(a+b)x+ab$"
   ]
  },
  {
   "cell_type": "markdown",
   "id": "d20a88c0-51fb-43e6-8866-ad4372a333ae",
   "metadata": {},
   "source": [
    "##### 展開"
   ]
  },
  {
   "cell_type": "markdown",
   "id": "c2a56b91-1c6d-473b-9fce-42db8023851f",
   "metadata": {},
   "source": [
    "- $(x+1)(x+2)$"
   ]
  },
  {
   "cell_type": "code",
   "execution_count": 4,
   "id": "c3f298c4-6652-46e0-a8e9-67a85a29613b",
   "metadata": {},
   "outputs": [
    {
     "data": {
      "text/latex": [
       "$\\displaystyle x^{2} + 3 x + 2$"
      ],
      "text/plain": [
       "x**2 + 3*x + 2"
      ]
     },
     "execution_count": 4,
     "metadata": {},
     "output_type": "execute_result"
    }
   ],
   "source": [
    "f1 = (x + 1) * (x + 2)\n",
    "sympy.expand(f1)"
   ]
  },
  {
   "cell_type": "markdown",
   "id": "6624103a-98ac-49f6-8887-f1c5940e26b5",
   "metadata": {},
   "source": [
    "- $(2x+3)(2x-5)$"
   ]
  },
  {
   "cell_type": "code",
   "execution_count": 5,
   "id": "a67fa731-8f06-4051-97f1-00c84f5ce85b",
   "metadata": {},
   "outputs": [
    {
     "data": {
      "text/latex": [
       "$\\displaystyle 4 x^{2} - 4 x - 15$"
      ],
      "text/plain": [
       "4*x**2 - 4*x - 15"
      ]
     },
     "execution_count": 5,
     "metadata": {},
     "output_type": "execute_result"
    }
   ],
   "source": [
    "f2 = (2 * x + 3) * (2 * x - 5)\n",
    "sympy.expand(f2)"
   ]
  },
  {
   "cell_type": "markdown",
   "id": "f7fc4554-a310-4ede-bef0-395a0f284a6d",
   "metadata": {},
   "source": [
    "##### 因数分解"
   ]
  },
  {
   "cell_type": "markdown",
   "id": "a3bf6529-2e9a-47f4-a2c8-bc3c50a398a8",
   "metadata": {},
   "source": [
    "- $x^{2}+11x+30$"
   ]
  },
  {
   "cell_type": "code",
   "execution_count": 6,
   "id": "1cb5563a-f378-4a02-a624-74f9d262717b",
   "metadata": {},
   "outputs": [
    {
     "data": {
      "text/latex": [
       "$\\displaystyle \\left(x + 5\\right) \\left(x + 6\\right)$"
      ],
      "text/plain": [
       "(x + 5)*(x + 6)"
      ]
     },
     "execution_count": 6,
     "metadata": {},
     "output_type": "execute_result"
    }
   ],
   "source": [
    "f3 = (x ** 2) + 11 * x + 30\n",
    "sympy.factor(f3)"
   ]
  },
  {
   "cell_type": "markdown",
   "id": "fa9d3f6c-8aee-4f7d-af85-095ad6d39cc9",
   "metadata": {},
   "source": [
    "- $9x^{2}+21x+10$"
   ]
  },
  {
   "cell_type": "code",
   "execution_count": 7,
   "id": "24f6a946-b0fd-4f9d-a503-1e18076e5442",
   "metadata": {},
   "outputs": [
    {
     "data": {
      "text/latex": [
       "$\\displaystyle \\left(3 x + 2\\right) \\left(3 x + 5\\right)$"
      ],
      "text/plain": [
       "(3*x + 2)*(3*x + 5)"
      ]
     },
     "execution_count": 7,
     "metadata": {},
     "output_type": "execute_result"
    }
   ],
   "source": [
    "f4 = 9 * (x ** 2) + 21 * x + 10\n",
    "sympy.factor(f4)"
   ]
  },
  {
   "cell_type": "markdown",
   "id": "460b7502-3256-488f-a098-83534bc58cfe",
   "metadata": {},
   "source": [
    "#### $acx^{2}+(ad+bc)x+bd=(ax+b)(cx+d)$"
   ]
  },
  {
   "cell_type": "markdown",
   "id": "cdd41815-a9b4-4cd0-84c7-c74adf1c48a4",
   "metadata": {},
   "source": [
    "##### 展開"
   ]
  },
  {
   "cell_type": "markdown",
   "id": "234d070b-f4cc-4c4b-a148-cc78ca568c13",
   "metadata": {},
   "source": [
    "- $(2x+5)(3x+4)$"
   ]
  },
  {
   "cell_type": "code",
   "execution_count": 8,
   "id": "80239b06-204e-4c1f-bbfd-2b8982d97546",
   "metadata": {},
   "outputs": [
    {
     "data": {
      "text/latex": [
       "$\\displaystyle 6 x^{2} + 23 x + 20$"
      ],
      "text/plain": [
       "6*x**2 + 23*x + 20"
      ]
     },
     "execution_count": 8,
     "metadata": {},
     "output_type": "execute_result"
    }
   ],
   "source": [
    "f5 = (2 * x + 5) * (3 * x + 4)\n",
    "sympy.expand(f5)"
   ]
  },
  {
   "cell_type": "markdown",
   "id": "551563b7-29a6-4377-a4dd-4ab276726df9",
   "metadata": {},
   "source": [
    "- $(x - 3)(2x + 7)$"
   ]
  },
  {
   "cell_type": "code",
   "execution_count": 9,
   "id": "9b555b9d-fda6-41e6-acec-1ec6460d3308",
   "metadata": {},
   "outputs": [
    {
     "data": {
      "text/latex": [
       "$\\displaystyle 2 x^{2} + x - 21$"
      ],
      "text/plain": [
       "2*x**2 + x - 21"
      ]
     },
     "execution_count": 9,
     "metadata": {},
     "output_type": "execute_result"
    }
   ],
   "source": [
    "f6 = (x - 3) * (2 * x + 7)\n",
    "sympy.expand(f6)"
   ]
  },
  {
   "cell_type": "markdown",
   "id": "2ac9f34a-7382-423c-9f24-d811b9338d20",
   "metadata": {},
   "source": [
    "##### 因数分解"
   ]
  },
  {
   "cell_type": "markdown",
   "id": "ab941b02-aeaa-45cc-8ae4-b6e0df49562c",
   "metadata": {},
   "source": [
    "- $8x^{2}+22x+15$"
   ]
  },
  {
   "cell_type": "code",
   "execution_count": 10,
   "id": "72cc674e-070b-49c2-b309-01e2eaba8fa4",
   "metadata": {},
   "outputs": [
    {
     "data": {
      "text/latex": [
       "$\\displaystyle \\left(2 x + 3\\right) \\left(4 x + 5\\right)$"
      ],
      "text/plain": [
       "(2*x + 3)*(4*x + 5)"
      ]
     },
     "execution_count": 10,
     "metadata": {},
     "output_type": "execute_result"
    }
   ],
   "source": [
    "f7 = 8 * (x ** 2) + 22 * x + 15\n",
    "sympy.factor(f7)"
   ]
  },
  {
   "cell_type": "markdown",
   "id": "5a1bb2ad-bd59-4980-9a07-be6bd5e60667",
   "metadata": {},
   "source": [
    "- $3x^{2}-14x-5$"
   ]
  },
  {
   "cell_type": "code",
   "execution_count": 11,
   "id": "a34c21cc-d376-474e-af78-2cef512f9c6b",
   "metadata": {},
   "outputs": [
    {
     "data": {
      "text/latex": [
       "$\\displaystyle \\left(x - 5\\right) \\left(3 x + 1\\right)$"
      ],
      "text/plain": [
       "(x - 5)*(3*x + 1)"
      ]
     },
     "execution_count": 11,
     "metadata": {},
     "output_type": "execute_result"
    }
   ],
   "source": [
    "f8 = 3 * (x ** 2) - 14 * x - 5\n",
    "sympy.factor(f8)"
   ]
  },
  {
   "cell_type": "markdown",
   "id": "0362e283-64a0-43f7-ac98-3b2eee29e654",
   "metadata": {},
   "source": [
    "#### $x^{2}+2xy+y^{2}=(x+y)^{2}$\n",
    "#### $x^{2}-2xy+y^{2}=(x-y)^{2}$"
   ]
  },
  {
   "cell_type": "markdown",
   "id": "093216e2-6334-4c83-9139-a6b185e53ce8",
   "metadata": {},
   "source": [
    "##### 展開"
   ]
  },
  {
   "cell_type": "markdown",
   "id": "026a5603-70f4-48bf-8f5b-4efa3417eb6d",
   "metadata": {},
   "source": [
    "- $(x+1)^{2}$"
   ]
  },
  {
   "cell_type": "code",
   "execution_count": 12,
   "id": "24ecc4d4-4600-487a-83c6-9f5f1318a65a",
   "metadata": {},
   "outputs": [
    {
     "data": {
      "text/latex": [
       "$\\displaystyle x^{2} + 2 x + 1$"
      ],
      "text/plain": [
       "x**2 + 2*x + 1"
      ]
     },
     "execution_count": 12,
     "metadata": {},
     "output_type": "execute_result"
    }
   ],
   "source": [
    "f9 = (x + 1) ** 2\n",
    "sympy.expand(f9)"
   ]
  },
  {
   "cell_type": "markdown",
   "id": "9bb4c832-ac03-44fa-a707-8abd233b55e8",
   "metadata": {},
   "source": [
    "- $(x-2)^{2}$"
   ]
  },
  {
   "cell_type": "code",
   "execution_count": 13,
   "id": "67184c88-4477-41b9-ad83-297770d370f5",
   "metadata": {},
   "outputs": [
    {
     "data": {
      "text/latex": [
       "$\\displaystyle x^{2} - 4 x + 4$"
      ],
      "text/plain": [
       "x**2 - 4*x + 4"
      ]
     },
     "execution_count": 13,
     "metadata": {},
     "output_type": "execute_result"
    }
   ],
   "source": [
    "f10 = (x - 2) ** 2\n",
    "sympy.expand(f10)"
   ]
  },
  {
   "cell_type": "markdown",
   "id": "b37d2bf0-9850-4231-b01c-20f48e4fa450",
   "metadata": {},
   "source": [
    "- $(2x + 3)^{2}$"
   ]
  },
  {
   "cell_type": "code",
   "execution_count": 14,
   "id": "89abb03d-5b02-4850-827e-bf5a374e40f2",
   "metadata": {},
   "outputs": [
    {
     "data": {
      "text/latex": [
       "$\\displaystyle 4 x^{2} + 12 x + 9$"
      ],
      "text/plain": [
       "4*x**2 + 12*x + 9"
      ]
     },
     "execution_count": 14,
     "metadata": {},
     "output_type": "execute_result"
    }
   ],
   "source": [
    "f11 = (2 * x + 3) ** 2\n",
    "sympy.expand(f11)"
   ]
  },
  {
   "cell_type": "markdown",
   "id": "3947fed0-cb5f-49f9-a139-531ecad22d29",
   "metadata": {},
   "source": [
    "##### 因数分解"
   ]
  },
  {
   "cell_type": "markdown",
   "id": "982d398a-c784-4ee1-8516-199da289e94c",
   "metadata": {},
   "source": [
    "- $x^{2}+4x+4$"
   ]
  },
  {
   "cell_type": "code",
   "execution_count": 15,
   "id": "e8bd7cea-f272-4354-b69c-b9d89948e38d",
   "metadata": {},
   "outputs": [
    {
     "data": {
      "text/latex": [
       "$\\displaystyle \\left(x + 2\\right)^{2}$"
      ],
      "text/plain": [
       "(x + 2)**2"
      ]
     },
     "execution_count": 15,
     "metadata": {},
     "output_type": "execute_result"
    }
   ],
   "source": [
    "f12 = (x ** 2) + 4 * x + 4\n",
    "sympy.factor(f12)"
   ]
  },
  {
   "cell_type": "markdown",
   "id": "ad50121c-0ace-44e3-94ec-bbe54a917195",
   "metadata": {},
   "source": [
    "- $x^{2}-6x+9$"
   ]
  },
  {
   "cell_type": "code",
   "execution_count": 16,
   "id": "75bed8a6-a309-4154-84c6-f7da68a45071",
   "metadata": {},
   "outputs": [
    {
     "data": {
      "text/latex": [
       "$\\displaystyle \\left(x - 3\\right)^{2}$"
      ],
      "text/plain": [
       "(x - 3)**2"
      ]
     },
     "execution_count": 16,
     "metadata": {},
     "output_type": "execute_result"
    }
   ],
   "source": [
    "f13 = (x ** 2) - 6 * x + 9\n",
    "sympy.factor(f13)"
   ]
  },
  {
   "cell_type": "markdown",
   "id": "964b76d1-5450-4193-a839-b387c4ccdbb1",
   "metadata": {},
   "source": [
    "- $25x^{2}-20x+4$"
   ]
  },
  {
   "cell_type": "code",
   "execution_count": 17,
   "id": "02290edd-d94c-467b-a409-700bea7a5f65",
   "metadata": {},
   "outputs": [
    {
     "data": {
      "text/latex": [
       "$\\displaystyle \\left(5 x - 2\\right)^{2}$"
      ],
      "text/plain": [
       "(5*x - 2)**2"
      ]
     },
     "execution_count": 17,
     "metadata": {},
     "output_type": "execute_result"
    }
   ],
   "source": [
    "f14 = 25 * (x ** 2) - 20 * x + 4\n",
    "sympy.factor(f14)"
   ]
  },
  {
   "cell_type": "markdown",
   "id": "42699c69-a398-4e91-bcf4-4b07de818edf",
   "metadata": {},
   "source": [
    "#### $x^{2}-y^{2}=(x+y)(x-y)$"
   ]
  },
  {
   "cell_type": "markdown",
   "id": "0db2688c-915e-4675-a4a4-69329b9d4ce5",
   "metadata": {},
   "source": [
    "##### 展開"
   ]
  },
  {
   "cell_type": "markdown",
   "id": "f1d2922f-4f8a-4085-9ebc-1999869321ad",
   "metadata": {},
   "source": [
    "- $(x + 1)(x - 1)$"
   ]
  },
  {
   "cell_type": "code",
   "execution_count": 18,
   "id": "0029e2d7-8f41-4c38-9ef0-8f95469ed3da",
   "metadata": {},
   "outputs": [
    {
     "data": {
      "text/latex": [
       "$\\displaystyle x^{2} - 1$"
      ],
      "text/plain": [
       "x**2 - 1"
      ]
     },
     "execution_count": 18,
     "metadata": {},
     "output_type": "execute_result"
    }
   ],
   "source": [
    "f15 = (x + 1) * (x - 1)\n",
    "sympy.expand(f15)"
   ]
  },
  {
   "cell_type": "markdown",
   "id": "27ebd036-6d3e-447e-bb1e-1434e6041734",
   "metadata": {},
   "source": [
    "- $(2x-3)(2x+3)$"
   ]
  },
  {
   "cell_type": "code",
   "execution_count": 19,
   "id": "6d480ec8-c516-4aa8-8561-c6417e8079dc",
   "metadata": {},
   "outputs": [
    {
     "data": {
      "text/latex": [
       "$\\displaystyle 4 x^{2} - 9$"
      ],
      "text/plain": [
       "4*x**2 - 9"
      ]
     },
     "execution_count": 19,
     "metadata": {},
     "output_type": "execute_result"
    }
   ],
   "source": [
    "f16 = (2 * x - 3) * (2 * x + 3)\n",
    "sympy.expand(f16)"
   ]
  },
  {
   "cell_type": "markdown",
   "id": "24383c8d-dcbb-45c0-bd9b-d8122278562f",
   "metadata": {},
   "source": [
    "##### 因数分解"
   ]
  },
  {
   "cell_type": "markdown",
   "id": "5c8c27e3-50eb-4048-84b7-241ff702d950",
   "metadata": {},
   "source": [
    "- $x^{2}-4$"
   ]
  },
  {
   "cell_type": "code",
   "execution_count": 20,
   "id": "110c0667-723a-41a4-a248-2ca7bdcad3b5",
   "metadata": {},
   "outputs": [
    {
     "data": {
      "text/latex": [
       "$\\displaystyle \\left(x - 2\\right) \\left(x + 2\\right)$"
      ],
      "text/plain": [
       "(x - 2)*(x + 2)"
      ]
     },
     "execution_count": 20,
     "metadata": {},
     "output_type": "execute_result"
    }
   ],
   "source": [
    "f17 = (x ** 2) - 4\n",
    "sympy.factor(f17)"
   ]
  },
  {
   "cell_type": "markdown",
   "id": "b2f1010a-4a14-41f6-a201-83dd6871fa43",
   "metadata": {},
   "source": [
    "- $81x^{2}-25$"
   ]
  },
  {
   "cell_type": "code",
   "execution_count": 21,
   "id": "cc51c7f4-bc38-4a9a-bbc4-fa8c45e2118a",
   "metadata": {},
   "outputs": [
    {
     "data": {
      "text/latex": [
       "$\\displaystyle \\left(9 x - 5\\right) \\left(9 x + 5\\right)$"
      ],
      "text/plain": [
       "(9*x - 5)*(9*x + 5)"
      ]
     },
     "execution_count": 21,
     "metadata": {},
     "output_type": "execute_result"
    }
   ],
   "source": [
    "f18 = 81 * (x ** 2) - 25\n",
    "sympy.factor(f18)"
   ]
  },
  {
   "cell_type": "markdown",
   "id": "a0f43857-eb4f-4edd-8fe9-e7069d28b092",
   "metadata": {},
   "source": [
    "#### $x^{3}+3x^{2}y+3xy^{2}+y^{3}=(x+y)^{3}$\n",
    "#### $x^{3}-3x^{2}y+3xy^{2}-y^{3}=(x-y)^{3}$"
   ]
  },
  {
   "cell_type": "markdown",
   "id": "97fed813-8471-487d-8f77-944e99c8b1bf",
   "metadata": {},
   "source": [
    "##### 展開"
   ]
  },
  {
   "cell_type": "markdown",
   "id": "79042328-88e0-4e4f-a345-34995b0785a3",
   "metadata": {},
   "source": [
    "- $(x+1)^{3}$"
   ]
  },
  {
   "cell_type": "code",
   "execution_count": 22,
   "id": "7a0003b6-b5c7-40bf-abec-df2358b56cfb",
   "metadata": {},
   "outputs": [
    {
     "data": {
      "text/latex": [
       "$\\displaystyle x^{3} + 3 x^{2} + 3 x + 1$"
      ],
      "text/plain": [
       "x**3 + 3*x**2 + 3*x + 1"
      ]
     },
     "execution_count": 22,
     "metadata": {},
     "output_type": "execute_result"
    }
   ],
   "source": [
    "f19 = (x + 1) ** 3\n",
    "sympy.expand(f19)"
   ]
  },
  {
   "cell_type": "markdown",
   "id": "e6280a57-fb54-416f-8871-99ad5d749ef1",
   "metadata": {},
   "source": [
    "- $(x - 2)^{2}$"
   ]
  },
  {
   "cell_type": "code",
   "execution_count": 23,
   "id": "82c0069b-30d2-4a76-8d93-42accd40dc42",
   "metadata": {},
   "outputs": [
    {
     "data": {
      "text/latex": [
       "$\\displaystyle x^{3} - 6 x^{2} + 12 x - 8$"
      ],
      "text/plain": [
       "x**3 - 6*x**2 + 12*x - 8"
      ]
     },
     "execution_count": 23,
     "metadata": {},
     "output_type": "execute_result"
    }
   ],
   "source": [
    "f20 = (x - 2) ** 3\n",
    "sympy.expand(f20)"
   ]
  },
  {
   "cell_type": "markdown",
   "id": "01aa92bd-b0b1-4ba1-bd37-4ba8f6be45a0",
   "metadata": {},
   "source": [
    "- $(2x + 3)^{3}$"
   ]
  },
  {
   "cell_type": "code",
   "execution_count": 24,
   "id": "d83da902-f13b-4183-ba9c-c5841279e1c6",
   "metadata": {},
   "outputs": [
    {
     "data": {
      "text/latex": [
       "$\\displaystyle 8 x^{3} + 36 x^{2} + 54 x + 27$"
      ],
      "text/plain": [
       "8*x**3 + 36*x**2 + 54*x + 27"
      ]
     },
     "execution_count": 24,
     "metadata": {},
     "output_type": "execute_result"
    }
   ],
   "source": [
    "f21 = (2 * x + 3) ** 3\n",
    "sympy.expand(f21)"
   ]
  },
  {
   "cell_type": "markdown",
   "id": "143cb2ca-007d-4d29-b3ad-f163f013001b",
   "metadata": {},
   "source": [
    "##### 因数分解"
   ]
  },
  {
   "cell_type": "markdown",
   "id": "681c875a-e49c-4a73-b805-4a317141a1c9",
   "metadata": {},
   "source": [
    "- $x^{3}+6x^{2}+12x+8$"
   ]
  },
  {
   "cell_type": "code",
   "execution_count": 25,
   "id": "cb9a3349-018b-4d59-aea3-27b5e120fe80",
   "metadata": {},
   "outputs": [
    {
     "data": {
      "text/latex": [
       "$\\displaystyle \\left(x + 2\\right)^{3}$"
      ],
      "text/plain": [
       "(x + 2)**3"
      ]
     },
     "execution_count": 25,
     "metadata": {},
     "output_type": "execute_result"
    }
   ],
   "source": [
    "f22 = (x ** 3) + 6 * (x ** 2) + 12 * x + 8\n",
    "sympy.factor(f22)"
   ]
  },
  {
   "cell_type": "markdown",
   "id": "8455dc38-a155-40c9-84fb-4b8b2780307a",
   "metadata": {},
   "source": [
    "- $x^{3}-3x^{2}+3x-1$"
   ]
  },
  {
   "cell_type": "code",
   "execution_count": 26,
   "id": "569c9d4a-a669-4484-bb54-2c79e73bc35f",
   "metadata": {},
   "outputs": [
    {
     "data": {
      "text/latex": [
       "$\\displaystyle \\left(x - 1\\right)^{3}$"
      ],
      "text/plain": [
       "(x - 1)**3"
      ]
     },
     "execution_count": 26,
     "metadata": {},
     "output_type": "execute_result"
    }
   ],
   "source": [
    "f23 = (x ** 3) - 3 * (x ** 2) + 3 * x - 1\n",
    "sympy.factor(f23)"
   ]
  },
  {
   "cell_type": "markdown",
   "id": "c5f74204-8859-4d73-8811-0d9e8d4888e8",
   "metadata": {},
   "source": [
    "- $27x^{3}-108x^{2}+144x-64$"
   ]
  },
  {
   "cell_type": "code",
   "execution_count": 27,
   "id": "c561133e-69f7-4003-8221-af0b9d9aeb73",
   "metadata": {},
   "outputs": [
    {
     "data": {
      "text/latex": [
       "$\\displaystyle \\left(3 x - 4\\right)^{3}$"
      ],
      "text/plain": [
       "(3*x - 4)**3"
      ]
     },
     "execution_count": 27,
     "metadata": {},
     "output_type": "execute_result"
    }
   ],
   "source": [
    "f24 = 27 * (x ** 3) - 108 * (x ** 2) + 144 * x - 64\n",
    "sympy.factor(f24)"
   ]
  },
  {
   "cell_type": "markdown",
   "id": "dbae552a-1d66-4d69-92b5-1e270d7ccb9c",
   "metadata": {},
   "source": [
    "#### $x^{3}+y^{3}=(x+y)(x^{2}-xy+y^{2})$\n",
    "#### $x^{3}-y^{3}=(x-y)(x^{2}+xy+y^{2})$"
   ]
  },
  {
   "cell_type": "markdown",
   "id": "65beeb00-40c9-400e-ab7d-595d1f92757d",
   "metadata": {},
   "source": [
    "##### 展開"
   ]
  },
  {
   "cell_type": "markdown",
   "id": "d904f402-ee0e-4933-836f-2a11e7b330b5",
   "metadata": {},
   "source": [
    "- $(x + 3)(x^{2}-3x+9)$"
   ]
  },
  {
   "cell_type": "code",
   "execution_count": 28,
   "id": "80f57dd4-5cbf-44cb-8c63-0b0cc4dbc206",
   "metadata": {},
   "outputs": [
    {
     "data": {
      "text/latex": [
       "$\\displaystyle x^{3} + 27$"
      ],
      "text/plain": [
       "x**3 + 27"
      ]
     },
     "execution_count": 28,
     "metadata": {},
     "output_type": "execute_result"
    }
   ],
   "source": [
    "f25 = (x + 3) * ((x ** 2) - 3 * x + 9)\n",
    "sympy.expand(f25)"
   ]
  },
  {
   "cell_type": "markdown",
   "id": "ae167ec7-6d93-4993-a29f-df821ad0f3ee",
   "metadata": {},
   "source": [
    "- $(x - 2)(x^{2}+2x+4)$"
   ]
  },
  {
   "cell_type": "code",
   "execution_count": 29,
   "id": "a1b451c6-eb35-40e0-b5c0-26ebed077077",
   "metadata": {},
   "outputs": [
    {
     "data": {
      "text/latex": [
       "$\\displaystyle x^{3} - 8$"
      ],
      "text/plain": [
       "x**3 - 8"
      ]
     },
     "execution_count": 29,
     "metadata": {},
     "output_type": "execute_result"
    }
   ],
   "source": [
    "f26 = (x - 2) * ((x ** 2) + 2 * x + 4)\n",
    "sympy.expand(f26)"
   ]
  },
  {
   "cell_type": "markdown",
   "id": "6602453e-0f9b-4886-8518-a80102eae094",
   "metadata": {},
   "source": [
    "- $(5x-1)(25x^{2}+5x+1)$"
   ]
  },
  {
   "cell_type": "code",
   "execution_count": 30,
   "id": "06a4d4ff-9fae-4471-8720-d93ad8f7595e",
   "metadata": {},
   "outputs": [
    {
     "data": {
      "text/latex": [
       "$\\displaystyle 125 x^{3} - 1$"
      ],
      "text/plain": [
       "125*x**3 - 1"
      ]
     },
     "execution_count": 30,
     "metadata": {},
     "output_type": "execute_result"
    }
   ],
   "source": [
    "f27 = (5 * x - 1) * (25 * (x ** 2) + 5 * x + 1)\n",
    "sympy.expand(f27)"
   ]
  },
  {
   "cell_type": "markdown",
   "id": "525fe5c6-c4c0-4d47-9768-47ab2ab475e6",
   "metadata": {},
   "source": [
    "##### 因数分解"
   ]
  },
  {
   "cell_type": "markdown",
   "id": "dc5cc553-7270-44bb-8725-074877af42ac",
   "metadata": {},
   "source": [
    "- $x^{3}+8$"
   ]
  },
  {
   "cell_type": "code",
   "execution_count": 31,
   "id": "551d05ec-edb1-4ad4-aea5-9dd0facef611",
   "metadata": {},
   "outputs": [
    {
     "data": {
      "text/latex": [
       "$\\displaystyle \\left(x + 2\\right) \\left(x^{2} - 2 x + 4\\right)$"
      ],
      "text/plain": [
       "(x + 2)*(x**2 - 2*x + 4)"
      ]
     },
     "execution_count": 31,
     "metadata": {},
     "output_type": "execute_result"
    }
   ],
   "source": [
    "f28 = x ** 3 + 8\n",
    "sympy.factor(f28)"
   ]
  },
  {
   "cell_type": "markdown",
   "id": "2433d13e-c199-4292-9267-3268440fa5bb",
   "metadata": {},
   "source": [
    "- $x^{3}-125$"
   ]
  },
  {
   "cell_type": "code",
   "execution_count": 32,
   "id": "3ad8e10b-7245-4ee3-9b19-8253d3e45a75",
   "metadata": {},
   "outputs": [
    {
     "data": {
      "text/latex": [
       "$\\displaystyle \\left(x - 5\\right) \\left(x^{2} + 5 x + 25\\right)$"
      ],
      "text/plain": [
       "(x - 5)*(x**2 + 5*x + 25)"
      ]
     },
     "execution_count": 32,
     "metadata": {},
     "output_type": "execute_result"
    }
   ],
   "source": [
    "f29 = x ** 3 - 125\n",
    "sympy.factor(f29)"
   ]
  },
  {
   "cell_type": "markdown",
   "id": "a2e1c44e-54f5-4116-9844-63773875cd2d",
   "metadata": {},
   "source": [
    "- $27x^{3} + 64$"
   ]
  },
  {
   "cell_type": "code",
   "execution_count": 33,
   "id": "1519238c-13c1-456c-bade-343a18e1164e",
   "metadata": {},
   "outputs": [
    {
     "data": {
      "text/latex": [
       "$\\displaystyle \\left(3 x + 4\\right) \\left(9 x^{2} - 12 x + 16\\right)$"
      ],
      "text/plain": [
       "(3*x + 4)*(9*x**2 - 12*x + 16)"
      ]
     },
     "execution_count": 33,
     "metadata": {},
     "output_type": "execute_result"
    }
   ],
   "source": [
    "f30 = 27 * (x ** 3) + 64\n",
    "sympy.factor(f30)"
   ]
  },
  {
   "cell_type": "markdown",
   "id": "dbe40db5-0a33-45f0-a0a2-296a8eca32fd",
   "metadata": {},
   "source": [
    "#### $x^{2}+y^{2}+z^{2}+2xy+2yz+2zx=(x+y+z)^{2}$"
   ]
  },
  {
   "cell_type": "markdown",
   "id": "5105faf0-3a16-435e-ba5c-bdf1a419407f",
   "metadata": {},
   "source": [
    "##### 展開"
   ]
  },
  {
   "cell_type": "markdown",
   "id": "2cf266f3-1419-48d7-b6a9-6c7c187218cd",
   "metadata": {},
   "source": [
    "- $(x + y + 3)^{2}$"
   ]
  },
  {
   "cell_type": "code",
   "execution_count": 34,
   "id": "50576551-8f2d-4b2b-a6a5-97a0b6ec207a",
   "metadata": {},
   "outputs": [
    {
     "data": {
      "text/latex": [
       "$\\displaystyle x^{2} + 2 x y + 6 x + y^{2} + 6 y + 9$"
      ],
      "text/plain": [
       "x**2 + 2*x*y + 6*x + y**2 + 6*y + 9"
      ]
     },
     "execution_count": 34,
     "metadata": {},
     "output_type": "execute_result"
    }
   ],
   "source": [
    "f31 = (x + y + 3) ** 2\n",
    "sympy.expand(f31)"
   ]
  },
  {
   "cell_type": "markdown",
   "id": "b3bb88cd-90a4-41c0-89be-2a4c5fbe8d36",
   "metadata": {},
   "source": [
    "- $(x-2y+2)^{2}$"
   ]
  },
  {
   "cell_type": "code",
   "execution_count": 35,
   "id": "96015cf5-1ac6-48ce-88f5-00d5d2f4b22d",
   "metadata": {},
   "outputs": [
    {
     "data": {
      "text/latex": [
       "$\\displaystyle x^{2} - 4 x y + 4 x + 4 y^{2} - 8 y + 4$"
      ],
      "text/plain": [
       "x**2 - 4*x*y + 4*x + 4*y**2 - 8*y + 4"
      ]
     },
     "execution_count": 35,
     "metadata": {},
     "output_type": "execute_result"
    }
   ],
   "source": [
    "f32 = (x - 2 * y + 2) ** 2\n",
    "sympy.expand(f32)"
   ]
  },
  {
   "cell_type": "markdown",
   "id": "ad785461-a3b5-413c-9f7c-0c911b725a69",
   "metadata": {},
   "source": [
    "- $(4x+3y-2)^{2}$"
   ]
  },
  {
   "cell_type": "code",
   "execution_count": 36,
   "id": "eb0b09a4-cd8b-4b0f-baa9-57257740d8cb",
   "metadata": {},
   "outputs": [
    {
     "data": {
      "text/latex": [
       "$\\displaystyle 16 x^{2} + 24 x y - 16 x + 9 y^{2} - 12 y + 4$"
      ],
      "text/plain": [
       "16*x**2 + 24*x*y - 16*x + 9*y**2 - 12*y + 4"
      ]
     },
     "execution_count": 36,
     "metadata": {},
     "output_type": "execute_result"
    }
   ],
   "source": [
    "f33 = (4 * x + 3 * y - 2) ** 2\n",
    "sympy.expand(f33)"
   ]
  },
  {
   "cell_type": "markdown",
   "id": "d753d6e2-c67f-4bb4-b887-9bacec60c9f0",
   "metadata": {},
   "source": [
    "##### 因数分解"
   ]
  },
  {
   "cell_type": "markdown",
   "id": "13d122c7-e4dc-45ea-9cd2-ce6acb50c1d8",
   "metadata": {},
   "source": [
    "- $x^{2}+y^{2}+1+2xy+2x+2y$"
   ]
  },
  {
   "cell_type": "code",
   "execution_count": 37,
   "id": "eb84de86-bdfe-4594-959e-6f7bc986cc26",
   "metadata": {},
   "outputs": [
    {
     "data": {
      "text/latex": [
       "$\\displaystyle \\left(x + y + 1\\right)^{2}$"
      ],
      "text/plain": [
       "(x + y + 1)**2"
      ]
     },
     "execution_count": 37,
     "metadata": {},
     "output_type": "execute_result"
    }
   ],
   "source": [
    "f34 = (x ** 2) + (y ** 2) + 1 + 2 * x * y + 2 * x + 2 * y\n",
    "sympy.factor(f34)"
   ]
  },
  {
   "cell_type": "markdown",
   "id": "7d53026b-92f0-43bc-9f2a-a9d34532b698",
   "metadata": {},
   "source": [
    "- $x^{2}+4xy+4y^{2}-6x-12y+9$"
   ]
  },
  {
   "cell_type": "code",
   "execution_count": 38,
   "id": "bd7805e1-31f9-4197-b039-f656de3c0dda",
   "metadata": {},
   "outputs": [
    {
     "data": {
      "text/latex": [
       "$\\displaystyle \\left(x + 2 y - 3\\right)^{2}$"
      ],
      "text/plain": [
       "(x + 2*y - 3)**2"
      ]
     },
     "execution_count": 38,
     "metadata": {},
     "output_type": "execute_result"
    }
   ],
   "source": [
    "f35 = (x ** 2) + 4 * x * y + 4 * (y ** 2) - 6 * x - 12 * y + 9\n",
    "sympy.factor(f35)"
   ]
  },
  {
   "cell_type": "markdown",
   "id": "57e817cb-03fe-4531-88b1-74b31304f247",
   "metadata": {},
   "source": [
    "- $4x^{2}-12xy+9y^{2}-16x+24y+16$"
   ]
  },
  {
   "cell_type": "code",
   "execution_count": 39,
   "id": "e404b28b-5ded-467c-b19f-c73d80ae2d0b",
   "metadata": {},
   "outputs": [
    {
     "data": {
      "text/latex": [
       "$\\displaystyle \\left(2 x - 3 y - 4\\right)^{2}$"
      ],
      "text/plain": [
       "(2*x - 3*y - 4)**2"
      ]
     },
     "execution_count": 39,
     "metadata": {},
     "output_type": "execute_result"
    }
   ],
   "source": [
    "f36 = 4 * (x ** 2) - 12 * x * y + 9 * (y ** 2) - 16 * x + 24 * y + 16\n",
    "sympy.factor(f36)"
   ]
  },
  {
   "cell_type": "markdown",
   "id": "0433aae0-9646-4394-9ddf-34204b0fdafc",
   "metadata": {},
   "source": [
    "#### $x^{3}+y^{3}+z^{3}-3xyz=(x+y+z)(x^{2}+y^{2}+z^{2}-xy-yz-zx)$"
   ]
  },
  {
   "cell_type": "markdown",
   "id": "5d6d6c96-1800-4b85-ac58-5b3dd9e0f4fc",
   "metadata": {},
   "source": [
    "##### 展開"
   ]
  },
  {
   "cell_type": "markdown",
   "id": "506cb9b2-9f98-4066-b819-f8a9133a0109",
   "metadata": {},
   "source": [
    "- $(x + y - 1)(x^{2}+y^{2}+1-xy+y+x)$"
   ]
  },
  {
   "cell_type": "code",
   "execution_count": 40,
   "id": "678a3a16-c12e-4e3b-b1cd-546d95562b50",
   "metadata": {},
   "outputs": [
    {
     "data": {
      "text/latex": [
       "$\\displaystyle x^{3} + 3 x y + y^{3} - 1$"
      ],
      "text/plain": [
       "x**3 + 3*x*y + y**3 - 1"
      ]
     },
     "execution_count": 40,
     "metadata": {},
     "output_type": "execute_result"
    }
   ],
   "source": [
    "f37 = (x + y - 1) * ((x ** 2) + (y ** 2) + 1 - x * y + y + x)\n",
    "sympy.expand(f37)"
   ]
  },
  {
   "cell_type": "markdown",
   "id": "5e997ef7-266c-4a7d-a90f-4e0f99056bd4",
   "metadata": {},
   "source": [
    "- $(x-2y+3)(x^{2}+2xy+4y^{2}+2xy-3x+6y+9)$"
   ]
  },
  {
   "cell_type": "code",
   "execution_count": 41,
   "id": "43f9934f-75f4-4ec6-9bc6-67eddb4d925f",
   "metadata": {},
   "outputs": [
    {
     "data": {
      "text/latex": [
       "$\\displaystyle x^{3} + 18 x y - 8 y^{3} + 27$"
      ],
      "text/plain": [
       "x**3 + 18*x*y - 8*y**3 + 27"
      ]
     },
     "execution_count": 41,
     "metadata": {},
     "output_type": "execute_result"
    }
   ],
   "source": [
    "f38 = (x - 2 * y + 3) * ((x ** 2) + 2 * x * y + 4 * (y ** 2) - 3 * x + 6 * y + 9)\n",
    "sympy.expand(f38)"
   ]
  },
  {
   "cell_type": "markdown",
   "id": "9b47e69a-5738-43e6-ac1b-4c9dca34e55f",
   "metadata": {},
   "source": [
    "##### 因数分解"
   ]
  },
  {
   "cell_type": "markdown",
   "id": "369af300-33df-47be-bb6f-165e2ef34098",
   "metadata": {},
   "source": [
    "- $x^{3}+y^{3}+1-3xy$"
   ]
  },
  {
   "cell_type": "code",
   "execution_count": 42,
   "id": "55724cad-7ccc-472a-8d75-748799be4511",
   "metadata": {},
   "outputs": [
    {
     "data": {
      "text/latex": [
       "$\\displaystyle \\left(x + y + 1\\right) \\left(x^{2} - x y - x + y^{2} - y + 1\\right)$"
      ],
      "text/plain": [
       "(x + y + 1)*(x**2 - x*y - x + y**2 - y + 1)"
      ]
     },
     "execution_count": 42,
     "metadata": {},
     "output_type": "execute_result"
    }
   ],
   "source": [
    "f39 = (x ** 3) + (y ** 3) + 1 - 3 * x * y\n",
    "sympy.factor(f39)"
   ]
  },
  {
   "cell_type": "markdown",
   "id": "c2751525-8bdf-4b16-9b05-bcb4e0fe4e9e",
   "metadata": {},
   "source": [
    "- $8x^{3}+90xy+125y^{3}-27$"
   ]
  },
  {
   "cell_type": "code",
   "execution_count": 43,
   "id": "27e4bfa7-480f-4218-8a08-9a3f1345fc1a",
   "metadata": {},
   "outputs": [
    {
     "data": {
      "text/latex": [
       "$\\displaystyle \\left(2 x + 5 y - 3\\right) \\left(4 x^{2} - 10 x y + 6 x + 25 y^{2} + 15 y + 9\\right)$"
      ],
      "text/plain": [
       "(2*x + 5*y - 3)*(4*x**2 - 10*x*y + 6*x + 25*y**2 + 15*y + 9)"
      ]
     },
     "execution_count": 43,
     "metadata": {},
     "output_type": "execute_result"
    }
   ],
   "source": [
    "f40 = 8 * (x ** 3) + 90 * x * y + 125 * (y ** 3) - 27\n",
    "sympy.factor(f40)"
   ]
  },
  {
   "cell_type": "markdown",
   "id": "271c3769-e3c6-4753-b01d-11b48dfb27ab",
   "metadata": {},
   "source": [
    "#### 演習問題\n",
    "因数分解をせよ。"
   ]
  },
  {
   "cell_type": "markdown",
   "id": "815f5b46-094f-41b6-a45a-6ce460565183",
   "metadata": {},
   "source": [
    "(1) $x^{6}-1$"
   ]
  },
  {
   "cell_type": "code",
   "execution_count": 44,
   "id": "c633ef97-65fe-4fde-85df-b116e5d207dd",
   "metadata": {},
   "outputs": [
    {
     "data": {
      "text/latex": [
       "$\\displaystyle \\left(x - 1\\right) \\left(x + 1\\right) \\left(x^{2} - x + 1\\right) \\left(x^{2} + x + 1\\right)$"
      ],
      "text/plain": [
       "(x - 1)*(x + 1)*(x**2 - x + 1)*(x**2 + x + 1)"
      ]
     },
     "execution_count": 44,
     "metadata": {},
     "output_type": "execute_result"
    }
   ],
   "source": [
    "f41 = (x ** 6) - 1\n",
    "sympy.factor(f41)"
   ]
  },
  {
   "cell_type": "markdown",
   "id": "82c4eccb-0679-4ba7-9a51-9cafb528fb2f",
   "metadata": {},
   "source": [
    "##### 解説\n",
    "$X=x^{3}$ とおくと与式は $X^{2}-1$ となるので $(X+1)(X-1)$ の形に因数分解できる。\n",
    "\n",
    "$X=x^{3}$ なので与式は $(x^{3}+1)(x^{3}-1)$ となり、 $x^{3}+1=(x+1)(x^{2}-x+1)$, $x^{3}-1=(x-1)(x^{2}+x+1)$ なので答えの形になる。"
   ]
  },
  {
   "cell_type": "markdown",
   "id": "11bc598c-6cee-4be8-afe7-8202788519b2",
   "metadata": {},
   "source": [
    "(2) $x^{2}+2xy-3x-4y+2$"
   ]
  },
  {
   "cell_type": "code",
   "execution_count": 45,
   "id": "fd1c01b0-9670-459c-8f77-99204f3844f0",
   "metadata": {},
   "outputs": [
    {
     "data": {
      "text/latex": [
       "$\\displaystyle \\left(x - 2\\right) \\left(x + 2 y - 1\\right)$"
      ],
      "text/plain": [
       "(x - 2)*(x + 2*y - 1)"
      ]
     },
     "execution_count": 45,
     "metadata": {},
     "output_type": "execute_result"
    }
   ],
   "source": [
    "f42 = (x ** 2) + 2 * x * y - 3 * x - 4 * y + 2\n",
    "sympy.factor(f42)"
   ]
  },
  {
   "cell_type": "markdown",
   "id": "656a7b0a-3e0c-4e66-8371-981057e4a2cf",
   "metadata": {},
   "source": [
    "##### 解説\n",
    "実際に手計算でやるときには最初に $x$ についてまとめる。\n",
    "\n",
    "$x^{2}+2xy-3x-4y+2=x^{2}+(2y-3)x-2(y-1)$\n",
    "\n",
    "すると、$x^{2}+(a+b)x+ab=(x+a)(x+b)$ の公式が使える。\n",
    "この場合 $a=-2$, $b=2y-1$ となる。"
   ]
  },
  {
   "cell_type": "markdown",
   "id": "719e5cd3-44b0-4aa3-bd30-3d00da5d69e8",
   "metadata": {},
   "source": [
    "(3) $x^{4}+4$"
   ]
  },
  {
   "cell_type": "code",
   "execution_count": 46,
   "id": "7523d8bf-0106-4ace-9991-68063571e351",
   "metadata": {},
   "outputs": [
    {
     "data": {
      "text/latex": [
       "$\\displaystyle \\left(x^{2} - 2 x + 2\\right) \\left(x^{2} + 2 x + 2\\right)$"
      ],
      "text/plain": [
       "(x**2 - 2*x + 2)*(x**2 + 2*x + 2)"
      ]
     },
     "execution_count": 46,
     "metadata": {},
     "output_type": "execute_result"
    }
   ],
   "source": [
    "f43 = (x ** 4) + 4\n",
    "sympy.factor(f43)"
   ]
  },
  {
   "cell_type": "markdown",
   "id": "7ae7af78-3df6-47b6-a549-35a814ae9306",
   "metadata": {},
   "source": [
    "##### 解説\n",
    "$x^{4}+4=x^{4}+4x^{2}+4-4x^{2}$ とおく。\n",
    "\n",
    "すると、$x^{4}+4x^{2}+4$ は $(x^{2}+2)^{2}$ となるので\n",
    "\n",
    "(与式)$=(x^{2}+2)^{2}-4x^{2}$ となる。\n",
    "\n",
    "$A=x^{2}+2$, $B=2x$ とおくとこれは $A^{2}-B^{2}$ の形になっているので $(A+B)(A-B)$ の形に因数分解できる。"
   ]
  },
  {
   "cell_type": "code",
   "execution_count": null,
   "id": "8cafef09-6970-4903-bcfc-9340e46f1784",
   "metadata": {},
   "outputs": [],
   "source": []
  }
 ],
 "metadata": {
  "kernelspec": {
   "display_name": "Python 3 (ipykernel)",
   "language": "python",
   "name": "python3"
  },
  "language_info": {
   "codemirror_mode": {
    "name": "ipython",
    "version": 3
   },
   "file_extension": ".py",
   "mimetype": "text/x-python",
   "name": "python",
   "nbconvert_exporter": "python",
   "pygments_lexer": "ipython3",
   "version": "3.11.4"
  }
 },
 "nbformat": 4,
 "nbformat_minor": 5
}
