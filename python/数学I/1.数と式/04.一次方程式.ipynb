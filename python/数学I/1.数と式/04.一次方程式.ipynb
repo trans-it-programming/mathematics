{
 "cells": [
  {
   "cell_type": "markdown",
   "id": "e9349fa0-f663-40f5-8d0c-61282c70ec23",
   "metadata": {},
   "source": [
    "# 1. 数と式\n",
    "## 1-4. 一次方程式"
   ]
  },
  {
   "cell_type": "code",
   "execution_count": 1,
   "id": "8fbce7f5-2065-4285-8992-d206f885d11d",
   "metadata": {},
   "outputs": [
    {
     "data": {
      "text/html": [
       "<style>\n",
       "  h4 {\n",
       "      padding: 8px;\n",
       "      border: 1px solid black;\n",
       "  }\n",
       "  table {\n",
       "    float: left;\n",
       "  }\n",
       "</style>\n"
      ],
      "text/plain": [
       "<IPython.core.display.HTML object>"
      ]
     },
     "metadata": {},
     "output_type": "display_data"
    }
   ],
   "source": [
    "%%html\n",
    "<style>\n",
    "  h4 {\n",
    "      padding: 8px;\n",
    "      border: 1px solid black;\n",
    "  }\n",
    "  table {\n",
    "    float: left;\n",
    "  }\n",
    "</style>"
   ]
  },
  {
   "cell_type": "markdown",
   "id": "bab628d5-8f4d-483f-8d77-799e474157f6",
   "metadata": {},
   "source": [
    "$A=B$ のとき\n",
    "- $A+C=B+C$\n",
    "- $A-C=B-C$\n",
    "- $A\\times C=B\\times C$\n",
    "- $A\\div C=B\\div C$"
   ]
  },
  {
   "cell_type": "markdown",
   "id": "6b8b99c0-f9f9-4410-950c-e7ec1ff3a0b8",
   "metadata": {},
   "source": [
    "##### 例\n",
    "$5x+4=14$\n",
    "\n",
    "$5x=10$ $\\hspace{1cm}\\cdots\\hspace{1cm}$(両辺)$-4$\n",
    "\n",
    "$x=2$ $\\hspace{1cm}\\cdots\\hspace{1cm}$(両辺)$\\div 5$"
   ]
  },
  {
   "cell_type": "markdown",
   "id": "4ce38ea6-5670-47a3-b2b0-bc4a38c91cd0",
   "metadata": {},
   "source": [
    "### Python\n",
    "#### 方程式 $f(x)=0$ を $x$ について解く\n",
    "```\n",
    "sympy.solve(f(x), x)\n",
    "```\n",
    "\n",
    "#### グラフ描画設定\n",
    "```\n",
    "import matplotlib.pyplot as plt\n",
    "%matplotlib inline\n",
    "\n",
    "plt.rcParams['figure.figsize'] = ([縦幅], [横幅])\n",
    "```\n",
    "上記の 縦幅 と 横幅 で画像の大きさを指定する。 (単位はインチ) \n",
    "\n",
    "#### グラフ描画\n",
    "```\n",
    "sympy.plot(f(x), xlabel=[横軸のラベル], ylabel=[縦軸のラベル], xlim=[xの範囲], ylim=[yの範囲])\n",
    "```\n",
    "xlabel, ylabel, xlim, ylim は省略可能\n",
    "- xlabel 省略時は横軸のラベルは x となる。\n",
    "- ylabel 省略時は縦軸のラベルは y となる。\n",
    "- xlim, ylim 省略時は自動設定"
   ]
  },
  {
   "cell_type": "code",
   "execution_count": 30,
   "id": "8942f052-f72d-41f9-888d-cc8ccbf2bd5e",
   "metadata": {},
   "outputs": [],
   "source": [
    "import sympy\n",
    "import matplotlib.pyplot as plt\n",
    "%matplotlib inline\n",
    "\n",
    "plt.rcParams['figure.figsize'] = (5, 5)"
   ]
  },
  {
   "cell_type": "code",
   "execution_count": 31,
   "id": "8cd1e1ec-a116-4594-9ace-7f040144d8a2",
   "metadata": {},
   "outputs": [],
   "source": [
    "x = sympy.Symbol('x')\n",
    "y = sympy.Symbol('y')"
   ]
  },
  {
   "cell_type": "markdown",
   "id": "cf5f596e-da21-4000-a2c5-9fecefe4dca6",
   "metadata": {},
   "source": [
    "### 一次方程式"
   ]
  },
  {
   "cell_type": "markdown",
   "id": "55e225ee-2fcf-4886-96bc-44b8910082b9",
   "metadata": {},
   "source": [
    "- $2x+4=0$"
   ]
  },
  {
   "cell_type": "code",
   "execution_count": 32,
   "id": "4c415a0d-80ba-4a59-a10f-a02f9f641e48",
   "metadata": {},
   "outputs": [
    {
     "data": {
      "text/plain": [
       "[-2]"
      ]
     },
     "execution_count": 32,
     "metadata": {},
     "output_type": "execute_result"
    }
   ],
   "source": [
    "expr1 = 2 * x + 4\n",
    "sympy.solve(expr1, x)"
   ]
  },
  {
   "cell_type": "markdown",
   "id": "02098c00-ee87-4469-bccf-0c3091db59c7",
   "metadata": {},
   "source": [
    "($2x+4=0$ の解は $-2$)"
   ]
  },
  {
   "cell_type": "code",
   "execution_count": 36,
   "id": "889cea7e-c1b4-4295-8e11-7466f7a873d5",
   "metadata": {},
   "outputs": [
    {
     "data": {
      "image/png": "[encoded data removed]",
      "text/plain": [
       "<Figure size 500x500 with 1 Axes>"
      ]
     },
     "metadata": {},
     "output_type": "display_data"
    },
    {
     "data": {
      "text/plain": [
       "<sympy.plotting.plot.Plot at 0x11c67b2d0>"
      ]
     },
     "execution_count": 36,
     "metadata": {},
     "output_type": "execute_result"
    }
   ],
   "source": [
    "sympy.plot(expr1, ylabel='y', xlim=[-4, 2], ylim=[-1, 5])"
   ]
  },
  {
   "cell_type": "markdown",
   "id": "fd0c1826-f71a-417e-a9d2-c629d344aaea",
   "metadata": {},
   "source": [
    "$y=0$ の時 $x=-2$ であることが確認できる。\n",
    "\n",
    "これは方程式 $2x+4=0$ の解と一致する。"
   ]
  },
  {
   "cell_type": "markdown",
   "id": "6b251996-81f3-47cf-8eee-19d395589cc7",
   "metadata": {},
   "source": [
    "- $-3x+3=0$"
   ]
  },
  {
   "cell_type": "code",
   "execution_count": 38,
   "id": "7a8dbdca-88b0-4714-ac78-7b7d755ea13c",
   "metadata": {},
   "outputs": [
    {
     "data": {
      "text/plain": [
       "[1]"
      ]
     },
     "execution_count": 38,
     "metadata": {},
     "output_type": "execute_result"
    }
   ],
   "source": [
    "expr2 = -3 * x + 3\n",
    "sympy.solve(expr2)"
   ]
  },
  {
   "cell_type": "markdown",
   "id": "8ca453b8-9dcc-41f4-aec1-0e4a50b125ed",
   "metadata": {},
   "source": [
    "($-3x+3=0$ の解は$1$)"
   ]
  },
  {
   "cell_type": "code",
   "execution_count": 40,
   "id": "33dcf785-9c64-4fec-9c93-de4db3667f4b",
   "metadata": {},
   "outputs": [
    {
     "data": {
      "image/png": "[encoded data removed]",
      "text/plain": [
       "<Figure size 500x500 with 1 Axes>"
      ]
     },
     "metadata": {},
     "output_type": "display_data"
    },
    {
     "data": {
      "text/plain": [
       "<sympy.plotting.plot.Plot at 0x11c7efb90>"
      ]
     },
     "execution_count": 40,
     "metadata": {},
     "output_type": "execute_result"
    }
   ],
   "source": [
    "sympy.plot(expr2, ylabel='y', xlim=[-3, 3], ylim=[-1, 5])"
   ]
  },
  {
   "cell_type": "markdown",
   "id": "49f80408-90e4-45be-ab96-6ed5dc240541",
   "metadata": {},
   "source": [
    "$y=0$ の時 $x=1$ であることが確認できる。\n",
    "\n",
    "これは方程式 $-3x+3=0$ の解と一致する。"
   ]
  },
  {
   "cell_type": "code",
   "execution_count": null,
   "id": "6641b3aa-41c0-4db0-8f12-93166c5d424f",
   "metadata": {},
   "outputs": [],
   "source": []
  }
 ],
 "metadata": {
  "kernelspec": {
   "display_name": "Python 3 (ipykernel)",
   "language": "python",
   "name": "python3"
  },
  "language_info": {
   "codemirror_mode": {
    "name": "ipython",
    "version": 3
   },
   "file_extension": ".py",
   "mimetype": "text/x-python",
   "name": "python",
   "nbconvert_exporter": "python",
   "pygments_lexer": "ipython3",
   "version": "3.11.4"
  }
 },
 "nbformat": 4,
 "nbformat_minor": 5
}
