{
 "cells": [
  {
   "cell_type": "markdown",
   "id": "e9349fa0-f663-40f5-8d0c-61282c70ec23",
   "metadata": {},
   "source": [
    "# 1. 数と式\n",
    "## 1-4. 一次方程式"
   ]
  },
  {
   "cell_type": "code",
   "execution_count": 1,
   "id": "8fbce7f5-2065-4285-8992-d206f885d11d",
   "metadata": {},
   "outputs": [
    {
     "data": {
      "text/html": [
       "<style>\n",
       "  h4 {\n",
       "      padding: 8px;\n",
       "      border: 1px solid black;\n",
       "  }\n",
       "  table {\n",
       "    float: left;\n",
       "  }\n",
       "</style>\n"
      ],
      "text/plain": [
       "<IPython.core.display.HTML object>"
      ]
     },
     "metadata": {},
     "output_type": "display_data"
    }
   ],
   "source": [
    "%%html\n",
    "<style>\n",
    "  h4 {\n",
    "      padding: 8px;\n",
    "      border: 1px solid black;\n",
    "  }\n",
    "  table {\n",
    "    float: left;\n",
    "  }\n",
    "</style>"
   ]
  },
  {
   "cell_type": "markdown",
   "id": "bab628d5-8f4d-483f-8d77-799e474157f6",
   "metadata": {},
   "source": [
    "$A=B$ のとき\n",
    "- $A+C=B+C$\n",
    "- $A-C=B-C$\n",
    "- $A\\times C=B\\times C$\n",
    "- $A\\div C=B\\div C$"
   ]
  },
  {
   "cell_type": "markdown",
   "id": "6b8b99c0-f9f9-4410-950c-e7ec1ff3a0b8",
   "metadata": {},
   "source": [
    "##### 一次方程式\n",
    "$5x+4=14$\n",
    "\n",
    "$5x=10$ $\\hspace{1cm}\\cdots\\hspace{1cm}$(両辺)$-4$\n",
    "\n",
    "$x=2$ $\\hspace{1cm}\\cdots\\hspace{1cm}$(両辺)$\\div 5$"
   ]
  },
  {
   "cell_type": "markdown",
   "id": "610913a3-27a5-4de2-bd1b-e60f5da43316",
   "metadata": {},
   "source": [
    "##### 連立一次方程式\n",
    "$\\Biggl\\{\n",
    "\\begin{matrix}\n",
    "    x + y = 3 & \\cdots & (1)　\\\\\n",
    "    2x+3y = 8 & \\cdots & (2)\n",
    "\\end{matrix}$\n",
    "\n",
    "$\\begin{matrix}\n",
    "   & 2x & + & 2y & = & 6 & \\cdots & (1)\\times 2 \\\\\n",
    "   -) & 2x & + & 3y & = & 8 & \\cdots & (2)\\\\ \\hline\n",
    "   & & & -y & = & -2\n",
    "\\end{matrix}$\n",
    "\n",
    "よって $y=2$\n",
    "\n",
    "(1) に代入して\n",
    "\n",
    "$x+2=3$\n",
    "\n",
    "$x=1$\n",
    "\n",
    "よって $(x, y)=(1, 2)$"
   ]
  },
  {
   "cell_type": "markdown",
   "id": "4ce38ea6-5670-47a3-b2b0-bc4a38c91cd0",
   "metadata": {},
   "source": [
    "### Python\n",
    "#### 方程式 $f(x)=0$ を $x$ について解く\n",
    "```\n",
    "sympy.solve(f(x), x)\n",
    "```\n",
    "\n",
    "#### 連立方程式 $f(x, y)=0$, $g(x, y)=0$ を $x$, $y$ について解く\n",
    "```\n",
    "sympy.solve([f(x), g(x)], [x, y])\n",
    "```\n",
    "\n",
    "#### グラフ描画設定\n",
    "```\n",
    "import matplotlib.pyplot as plt\n",
    "%matplotlib inline\n",
    "\n",
    "plt.rcParams['figure.figsize'] = ([縦幅], [横幅])\n",
    "```\n",
    "上記の 縦幅 と 横幅 で画像の大きさを指定する。 (単位はインチ) \n",
    "\n",
    "#### グラフ描画 [$y=f(x)$ の形]\n",
    "```\n",
    "sympy.plot(f(x), xlabel=[横軸のラベル], ylabel=[縦軸のラベル], xlim=[xの範囲], ylim=[yの範囲])\n",
    "```\n",
    "xlabel, ylabel, xlim, ylim は省略可能\n",
    "- xlabel 省略時は横軸のラベルは x となる。\n",
    "- ylabel 省略時は縦軸のラベルは f(x) となる。\n",
    "- xlim, ylim 省略時は自動設定\n",
    "\n",
    "#### グラフ描画 [$f(x, y)=0$ の形]\n",
    "```\n",
    "sympy.plot_implicit(f(x, y), (x, [xの範囲]), (y, [yの範囲]))\n",
    "```"
   ]
  },
  {
   "cell_type": "code",
   "execution_count": 2,
   "id": "8942f052-f72d-41f9-888d-cc8ccbf2bd5e",
   "metadata": {},
   "outputs": [],
   "source": [
    "import sympy\n",
    "import matplotlib.pyplot as plt\n",
    "%matplotlib inline\n",
    "\n",
    "plt.rcParams['figure.figsize'] = (5, 5)"
   ]
  },
  {
   "cell_type": "code",
   "execution_count": 3,
   "id": "8cd1e1ec-a116-4594-9ace-7f040144d8a2",
   "metadata": {},
   "outputs": [],
   "source": [
    "x = sympy.Symbol('x')\n",
    "y = sympy.Symbol('y')"
   ]
  },
  {
   "cell_type": "markdown",
   "id": "cf5f596e-da21-4000-a2c5-9fecefe4dca6",
   "metadata": {},
   "source": [
    "### 一次方程式"
   ]
  },
  {
   "cell_type": "markdown",
   "id": "55e225ee-2fcf-4886-96bc-44b8910082b9",
   "metadata": {},
   "source": [
    "- $2x+4=0$"
   ]
  },
  {
   "cell_type": "code",
   "execution_count": 4,
   "id": "4c415a0d-80ba-4a59-a10f-a02f9f641e48",
   "metadata": {},
   "outputs": [
    {
     "data": {
      "text/plain": [
       "[-2]"
      ]
     },
     "execution_count": 4,
     "metadata": {},
     "output_type": "execute_result"
    }
   ],
   "source": [
    "expr1 = 2 * x + 4\n",
    "sympy.solve(expr1, x)"
   ]
  },
  {
   "cell_type": "markdown",
   "id": "02098c00-ee87-4469-bccf-0c3091db59c7",
   "metadata": {},
   "source": [
    "($2x+4=0$ の解は $-2$)"
   ]
  },
  {
   "cell_type": "code",
   "execution_count": 5,
   "id": "889cea7e-c1b4-4295-8e11-7466f7a873d5",
   "metadata": {},
   "outputs": [
    {
     "data": {
      "image/png": "[encoded data removed]",
      "text/plain": [
       "<Figure size 500x500 with 1 Axes>"
      ]
     },
     "metadata": {},
     "output_type": "display_data"
    },
    {
     "data": {
      "text/plain": [
       "<sympy.plotting.plot.Plot at 0x1175b1c10>"
      ]
     },
     "execution_count": 5,
     "metadata": {},
     "output_type": "execute_result"
    }
   ],
   "source": [
    "sympy.plot(expr1, ylabel='y', xlim=(-4, 2), ylim=(-1, 5))"
   ]
  },
  {
   "cell_type": "markdown",
   "id": "fd0c1826-f71a-417e-a9d2-c629d344aaea",
   "metadata": {},
   "source": [
    "$y=0$ の時 $x=-2$ であることが確認できる。\n",
    "\n",
    "これは方程式 $2x+4=0$ の解と一致する。"
   ]
  },
  {
   "cell_type": "markdown",
   "id": "6b251996-81f3-47cf-8eee-19d395589cc7",
   "metadata": {},
   "source": [
    "- $-3x+3=0$"
   ]
  },
  {
   "cell_type": "code",
   "execution_count": 6,
   "id": "7a8dbdca-88b0-4714-ac78-7b7d755ea13c",
   "metadata": {},
   "outputs": [
    {
     "data": {
      "text/plain": [
       "[1]"
      ]
     },
     "execution_count": 6,
     "metadata": {},
     "output_type": "execute_result"
    }
   ],
   "source": [
    "expr2 = -3 * x + 3\n",
    "sympy.solve(expr2, x)"
   ]
  },
  {
   "cell_type": "markdown",
   "id": "8ca453b8-9dcc-41f4-aec1-0e4a50b125ed",
   "metadata": {},
   "source": [
    "($-3x+3=0$ の解は$1$)"
   ]
  },
  {
   "cell_type": "code",
   "execution_count": 7,
   "id": "33dcf785-9c64-4fec-9c93-de4db3667f4b",
   "metadata": {},
   "outputs": [
    {
     "data": {
      "image/png": "[encoded data removed]",
      "text/plain": [
       "<Figure size 500x500 with 1 Axes>"
      ]
     },
     "metadata": {},
     "output_type": "display_data"
    },
    {
     "data": {
      "text/plain": [
       "<sympy.plotting.plot.Plot at 0x11190a9d0>"
      ]
     },
     "execution_count": 7,
     "metadata": {},
     "output_type": "execute_result"
    }
   ],
   "source": [
    "sympy.plot(expr2, ylabel='y', xlim=(-3, 3), ylim=(-1, 5))"
   ]
  },
  {
   "cell_type": "markdown",
   "id": "49f80408-90e4-45be-ab96-6ed5dc240541",
   "metadata": {},
   "source": [
    "$y=0$ の時 $x=1$ であることが確認できる。\n",
    "\n",
    "これは方程式 $-3x+3=0$ の解と一致する。"
   ]
  },
  {
   "cell_type": "markdown",
   "id": "28de2c5e-5b01-4cb3-aaf5-63a20f66c81e",
   "metadata": {},
   "source": [
    "### 連立一次方程式"
   ]
  },
  {
   "cell_type": "markdown",
   "id": "b8dbcea9-5cde-402d-9e64-05de73825c9c",
   "metadata": {},
   "source": [
    "- $\\Biggl\\{\n",
    "\\begin{matrix}\n",
    "    2x + 3y = 13 \\\\\n",
    "    x+5y = 17\n",
    "\\end{matrix}$"
   ]
  },
  {
   "cell_type": "code",
   "execution_count": 8,
   "id": "e212c938-6c0d-4173-969c-b667fcda215d",
   "metadata": {},
   "outputs": [
    {
     "data": {
      "text/plain": [
       "{x: 2, y: 3}"
      ]
     },
     "execution_count": 8,
     "metadata": {},
     "output_type": "execute_result"
    }
   ],
   "source": [
    "expr3 = 2 * x + 3 * y - 13\n",
    "expr4 = x + 5 * y - 17\n",
    "\n",
    "sympy.solve([expr3, expr4], [x, y])"
   ]
  },
  {
   "cell_type": "markdown",
   "id": "9b3b19c9-5868-4b3f-bf0a-0df847d019b9",
   "metadata": {},
   "source": [
    "連立方程式の解は $(x, y) = (2, 3)$"
   ]
  },
  {
   "cell_type": "code",
   "execution_count": 9,
   "id": "33ef3861-97a9-42d6-a90b-11afa665709a",
   "metadata": {},
   "outputs": [
    {
     "data": {
      "image/png": "[encoded data removed]",
      "text/plain": [
       "<Figure size 500x500 with 1 Axes>"
      ]
     },
     "metadata": {},
     "output_type": "display_data"
    }
   ],
   "source": [
    "graph3 = sympy.plot_implicit(expr3, (x, -1, 5), (y, -1, 5), axis_center=(0, 0), line_color='red', show=False)\n",
    "graph4 = sympy.plot_implicit(expr4, (x, -1, 5), (y, -1, 5), axis_center=(0, 0), line_color='blue', show=False)\n",
    "graph3.extend(graph4)\n",
    "graph3.show()\n",
    "\n",
    "# line_color で線の色を指定\n",
    "# axis_center で軸の中心を指定"
   ]
  },
  {
   "cell_type": "markdown",
   "id": "15820320-b050-4838-b9b6-b3bd912399c9",
   "metadata": {},
   "source": [
    "赤線は $2x+3y=13$ の直線 ・・・　$y=\\frac{-2}{3}x+\\frac{13}{3}$ (傾き $\\frac{-2}{3}$, $y$切片 $\\frac{13}{3}$)\n",
    "\n",
    "青線は $x+5y=17$ の直線 ・・・ $y=\\frac{-1}{5}x+\\frac{17}{5}$ (傾き $\\frac{-1}{5}$, $y$切片 $\\frac{17}{5}$)\n",
    "\n",
    "この2つの直線は $(x, y)=(2, 3)$ で交わり、連立方程式の解と一致する。"
   ]
  },
  {
   "cell_type": "markdown",
   "id": "199bca46-899f-456f-b031-61e2af23ccc1",
   "metadata": {},
   "source": [
    "- $\\Biggl\\{\n",
    "\\begin{matrix}\n",
    "    x + y - 4 = 0 \\\\\n",
    "    x - y + 2 = 0\n",
    "\\end{matrix}$"
   ]
  },
  {
   "cell_type": "code",
   "execution_count": 10,
   "id": "5b72025c-0c30-4ebe-b142-05bfe6aaa7f9",
   "metadata": {},
   "outputs": [
    {
     "data": {
      "text/plain": [
       "{x: 1, y: 3}"
      ]
     },
     "execution_count": 10,
     "metadata": {},
     "output_type": "execute_result"
    }
   ],
   "source": [
    "expr5 = x + y - 4\n",
    "expr6 = x - y + 2\n",
    "\n",
    "sympy.solve([expr5, expr6], [x, y])"
   ]
  },
  {
   "cell_type": "markdown",
   "id": "ef445a53-901e-4ab2-a059-f180e15571c8",
   "metadata": {},
   "source": [
    "連立方程式の解は $(x, y) = (1, 3)$"
   ]
  },
  {
   "cell_type": "code",
   "execution_count": 11,
   "id": "e9bf7ec7-e4bc-48d2-b5d1-a6dab0c9bb5e",
   "metadata": {},
   "outputs": [
    {
     "data": {
      "image/png": "[encoded data removed]",
      "text/plain": [
       "<Figure size 500x500 with 1 Axes>"
      ]
     },
     "metadata": {},
     "output_type": "display_data"
    }
   ],
   "source": [
    "graph5 = sympy.plot_implicit(expr5, (x, -1, 5), (y, -1, 5), axis_center=(0, 0), line_color='red', show=False)\n",
    "graph6 = sympy.plot_implicit(expr6, (x, -1, 5), (y, -1, 5), axis_center=(0, 0), line_color='blue', show=False)\n",
    "graph5.extend(graph6)\n",
    "graph5.show()"
   ]
  },
  {
   "cell_type": "markdown",
   "id": "cd4ac185-b5fa-487d-8dd9-b73f3b8ad454",
   "metadata": {},
   "source": [
    "赤線は $x+y-4=0$ の直線 ・・・　$y=-x+4$ (傾き $-1$, $y$切片 $4$)\n",
    "\n",
    "青線は $x-y+2=0$ の直線 ・・・ $y=x+2$ (傾き $1$, $y$切片 $2$)\n",
    "\n",
    "この2つの直線は $(x, y)=(1, 3)$ で交わり、連立方程式の解と一致する。"
   ]
  },
  {
   "cell_type": "code",
   "execution_count": null,
   "id": "d0f2f008-4047-4a26-a04f-7152e63caef2",
   "metadata": {},
   "outputs": [],
   "source": []
  }
 ],
 "metadata": {
  "kernelspec": {
   "display_name": "Python 3 (ipykernel)",
   "language": "python",
   "name": "python3"
  },
  "language_info": {
   "codemirror_mode": {
    "name": "ipython",
    "version": 3
   },
   "file_extension": ".py",
   "mimetype": "text/x-python",
   "name": "python",
   "nbconvert_exporter": "python",
   "pygments_lexer": "ipython3",
   "version": "3.11.4"
  }
 },
 "nbformat": 4,
 "nbformat_minor": 5
}
