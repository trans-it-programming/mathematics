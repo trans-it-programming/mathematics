{
 "cells": [
  {
   "cell_type": "markdown",
   "id": "c75d294a-27a5-4183-a053-aef9c3d74c73",
   "metadata": {},
   "source": [
    "# 1. 数と式\n",
    "## 1-1. 指数法則"
   ]
  },
  {
   "cell_type": "code",
   "execution_count": 1,
   "id": "a5fe627a-46d5-4286-94b9-a865ce7653ac",
   "metadata": {},
   "outputs": [
    {
     "data": {
      "text/html": [
       "<style>\n",
       "  h4 {\n",
       "      padding: 8px;\n",
       "      border: 1px solid black;\n",
       "  }\n",
       "  table {\n",
       "    float: left;\n",
       "  }\n",
       "</style>\n"
      ],
      "text/plain": [
       "<IPython.core.display.HTML object>"
      ]
     },
     "metadata": {},
     "output_type": "display_data"
    }
   ],
   "source": [
    "%%html\n",
    "<style>\n",
    "  h4 {\n",
    "      padding: 8px;\n",
    "      border: 1px solid black;\n",
    "  }\n",
    "  table {\n",
    "    float: left;\n",
    "  }\n",
    "</style>"
   ]
  },
  {
   "cell_type": "markdown",
   "id": "7729d381-9ca9-43f0-9de3-7bd1cfa6ad6f",
   "metadata": {},
   "source": [
    "$$\n",
    "    a^{n} = a \\times a \\times \\cdots \\times a\n",
    "$$"
   ]
  },
  {
   "cell_type": "markdown",
   "id": "2cfd464e-44ba-489b-8188-198ad1480b75",
   "metadata": {},
   "source": [
    "### 指数に関する公式\n",
    "$m$, $n$: 自然数、$a\\neq 0$\n",
    "\n",
    "- $a^{0} = 1$\n",
    "- $a^{1} = a$\n",
    "- $a^{m} \\times a^{n} = a^{m+n}$\n",
    "- $(a^{m})^{n}=a^{mn}$\n",
    "- ${\\displaystyle \\frac{a^{m}}{a^{n}}} = a^{m - n}$\n",
    "- ${\\displaystyle \\left(\\frac{b}{a}\\right)^{m} = \\frac{b^{m}}{a^{m}}}$\n",
    "- $(a \\times b)^{m} = a^{m} \\times b^{m}$"
   ]
  },
  {
   "cell_type": "markdown",
   "id": "164374b4-83d0-4825-8eb0-a8ecaa07b918",
   "metadata": {},
   "source": [
    "### Python\n",
    "\n",
    "sympy ライブラリを使用する。\n",
    "\n",
    "##### sympy インストール方法\n",
    "```\n",
    "!pip install sympy\n",
    "```\n",
    "\n",
    "##### sympy 使用方法\n",
    "```\n",
    "import sympy\n",
    "```\n",
    "\n",
    "##### 変数定義\n",
    "例: 変数 a の定義\n",
    "```\n",
    "a = sympy.Symbol('a')\n",
    "```\n",
    "シンボル (Symbol) で定義する\n",
    "\n",
    "##### 算術演算子\n",
    "|演算子|説明|\n",
    "|-|-|\n",
    "| + |足し算|\n",
    "| - |引き算|\n",
    "| * |掛け算|\n",
    "| / |割り算|\n",
    "| % |剰余 (余り) 今回は出てこない|\n",
    "|**|べき乗 (a ** b : a の b 乗)|"
   ]
  },
  {
   "cell_type": "code",
   "execution_count": 2,
   "id": "760425f6-f7fa-40b8-bd5f-4e82d8cfdfb9",
   "metadata": {},
   "outputs": [],
   "source": [
    "import sympy"
   ]
  },
  {
   "cell_type": "code",
   "execution_count": 3,
   "id": "0acf71ca-8001-44c7-842e-ddbd25ba1b86",
   "metadata": {},
   "outputs": [
    {
     "data": {
      "text/plain": [
       "(a, b)"
      ]
     },
     "execution_count": 3,
     "metadata": {},
     "output_type": "execute_result"
    }
   ],
   "source": [
    "# 変数 a, b の定義\n",
    "a = sympy.Symbol('a')\n",
    "b = sympy.Symbol('b')\n",
    "a, b"
   ]
  },
  {
   "cell_type": "code",
   "execution_count": 4,
   "id": "6bbe0aae-fb91-4b4c-b0ba-06e259a8d57f",
   "metadata": {},
   "outputs": [
    {
     "data": {
      "text/latex": [
       "$\\displaystyle a^{2}$"
      ],
      "text/plain": [
       "a**2"
      ]
     },
     "execution_count": 4,
     "metadata": {},
     "output_type": "execute_result"
    }
   ],
   "source": [
    "# a を 2回掛ける\n",
    "a * a"
   ]
  },
  {
   "cell_type": "code",
   "execution_count": 5,
   "id": "ca9f8579-edef-43dd-b102-70942b7aba20",
   "metadata": {},
   "outputs": [
    {
     "data": {
      "text/latex": [
       "$\\displaystyle a^{6}$"
      ],
      "text/plain": [
       "a**6"
      ]
     },
     "execution_count": 5,
     "metadata": {},
     "output_type": "execute_result"
    }
   ],
   "source": [
    "# a を 6回掛ける\n",
    "a * a * a * a * a * a"
   ]
  },
  {
   "cell_type": "markdown",
   "id": "760feeb6-3072-4824-8e8b-c45c1b05dd89",
   "metadata": {},
   "source": [
    "##### 例"
   ]
  },
  {
   "cell_type": "markdown",
   "id": "8c4b054e-4d41-489e-9cc0-5c343e9bc8b1",
   "metadata": {},
   "source": [
    "- $a^{0} = 1$"
   ]
  },
  {
   "cell_type": "code",
   "execution_count": 6,
   "id": "aa6395aa-036f-4a4e-aebb-5855b365c691",
   "metadata": {},
   "outputs": [
    {
     "data": {
      "text/latex": [
       "$\\displaystyle 1$"
      ],
      "text/plain": [
       "1"
      ]
     },
     "execution_count": 6,
     "metadata": {},
     "output_type": "execute_result"
    }
   ],
   "source": [
    "# 0乗は1になる\n",
    "a ** 0"
   ]
  },
  {
   "cell_type": "markdown",
   "id": "d71086f9-4a99-4fdc-abf0-61d39f617c9d",
   "metadata": {},
   "source": [
    "- $a^{1} = a$"
   ]
  },
  {
   "cell_type": "code",
   "execution_count": 7,
   "id": "282a3374-ca12-4750-b146-bdf7299d0ce1",
   "metadata": {},
   "outputs": [
    {
     "data": {
      "text/latex": [
       "$\\displaystyle a$"
      ],
      "text/plain": [
       "a"
      ]
     },
     "execution_count": 7,
     "metadata": {},
     "output_type": "execute_result"
    }
   ],
   "source": [
    "# 1乗はその数自身\n",
    "a ** 1"
   ]
  },
  {
   "cell_type": "markdown",
   "id": "8266d999-9b15-4369-9318-06004864ad36",
   "metadata": {},
   "source": [
    "- $a^{m} \\times a^{n} = a^{m + n}$"
   ]
  },
  {
   "cell_type": "code",
   "execution_count": 8,
   "id": "3121aa63-cb9b-4e88-9faa-bf5d80a6858f",
   "metadata": {},
   "outputs": [
    {
     "data": {
      "text/latex": [
       "$\\displaystyle a^{8}$"
      ],
      "text/plain": [
       "a**8"
      ]
     },
     "execution_count": 8,
     "metadata": {},
     "output_type": "execute_result"
    }
   ],
   "source": [
    "# m = 5, n = 3\n",
    "(a ** 5) * (a ** 3)"
   ]
  },
  {
   "cell_type": "code",
   "execution_count": 9,
   "id": "175fed07-9557-4b9f-903d-afad1254ff9d",
   "metadata": {},
   "outputs": [
    {
     "data": {
      "text/latex": [
       "$\\displaystyle a^{29}$"
      ],
      "text/plain": [
       "a**29"
      ]
     },
     "execution_count": 9,
     "metadata": {},
     "output_type": "execute_result"
    }
   ],
   "source": [
    "# m = 19, n = 10\n",
    "(a ** 19) * (a ** 10)"
   ]
  },
  {
   "cell_type": "markdown",
   "id": "3ca58d33-6959-408a-806f-34cf5cbbc858",
   "metadata": {},
   "source": [
    "- $(a^{m})^{n}=a^{mn}$"
   ]
  },
  {
   "cell_type": "code",
   "execution_count": 10,
   "id": "9e8b8759-c6ad-45e8-80b4-9ee16b28e70c",
   "metadata": {},
   "outputs": [
    {
     "data": {
      "text/latex": [
       "$\\displaystyle a^{15}$"
      ],
      "text/plain": [
       "a**15"
      ]
     },
     "execution_count": 10,
     "metadata": {},
     "output_type": "execute_result"
    }
   ],
   "source": [
    "# m = 5, n = 3\n",
    "(a ** 5) ** 3"
   ]
  },
  {
   "cell_type": "code",
   "execution_count": 11,
   "id": "c7017608-c5ed-4f77-a1ed-b86c2c026893",
   "metadata": {},
   "outputs": [
    {
     "data": {
      "text/latex": [
       "$\\displaystyle a^{190}$"
      ],
      "text/plain": [
       "a**190"
      ]
     },
     "execution_count": 11,
     "metadata": {},
     "output_type": "execute_result"
    }
   ],
   "source": [
    "# m = 19, n = 10\n",
    "(a ** 19) ** 10"
   ]
  },
  {
   "cell_type": "markdown",
   "id": "05534617-803d-4224-82d0-063f9910d609",
   "metadata": {},
   "source": [
    "- ${\\displaystyle \\frac{a^{m}}{a^{n}}} = a^{m - n}$"
   ]
  },
  {
   "cell_type": "code",
   "execution_count": 12,
   "id": "fa5cdef3-af94-4382-82ae-4f7ff370e062",
   "metadata": {},
   "outputs": [
    {
     "data": {
      "text/latex": [
       "$\\displaystyle a^{2}$"
      ],
      "text/plain": [
       "a**2"
      ]
     },
     "execution_count": 12,
     "metadata": {},
     "output_type": "execute_result"
    }
   ],
   "source": [
    "# m = 5, n = 3\n",
    "(a ** 5) / (a ** 3)"
   ]
  },
  {
   "cell_type": "code",
   "execution_count": 13,
   "id": "b37c41b2-de5e-4a7e-8f40-9971da6340da",
   "metadata": {},
   "outputs": [
    {
     "data": {
      "text/latex": [
       "$\\displaystyle a^{9}$"
      ],
      "text/plain": [
       "a**9"
      ]
     },
     "execution_count": 13,
     "metadata": {},
     "output_type": "execute_result"
    }
   ],
   "source": [
    "# m = 19, n = 10\n",
    "(a ** 19) / (a ** 10)"
   ]
  },
  {
   "cell_type": "markdown",
   "id": "339a8f5a-d90e-4ff7-b7c0-e1e67a9cb7f4",
   "metadata": {},
   "source": [
    "- ${\\displaystyle \\left(\\frac{b}{a}\\right)^{m} = \\frac{b^{m}}{a^{m}}}$"
   ]
  },
  {
   "cell_type": "code",
   "execution_count": 14,
   "id": "e58d90e9-d047-4a03-9e74-17e7d49ec470",
   "metadata": {},
   "outputs": [
    {
     "data": {
      "text/latex": [
       "$\\displaystyle \\frac{b^{3}}{a^{3}}$"
      ],
      "text/plain": [
       "b**3/a**3"
      ]
     },
     "execution_count": 14,
     "metadata": {},
     "output_type": "execute_result"
    }
   ],
   "source": [
    "(b / a) ** 3"
   ]
  },
  {
   "cell_type": "code",
   "execution_count": 15,
   "id": "46d2681c-af04-496b-9b34-a720c90a3d1b",
   "metadata": {},
   "outputs": [
    {
     "data": {
      "text/latex": [
       "$\\displaystyle \\frac{b^{10}}{a^{10}}$"
      ],
      "text/plain": [
       "b**10/a**10"
      ]
     },
     "execution_count": 15,
     "metadata": {},
     "output_type": "execute_result"
    }
   ],
   "source": [
    "(b / a) ** 10"
   ]
  },
  {
   "cell_type": "markdown",
   "id": "0cf73dcc-97a1-4de5-b8a8-6a616441c0bf",
   "metadata": {},
   "source": [
    "- $(a \\times b)^{m} = a^{m} \\times b^{m}$"
   ]
  },
  {
   "cell_type": "code",
   "execution_count": 16,
   "id": "5fc38a0d-cdf9-432f-9f7f-7292117fdc71",
   "metadata": {},
   "outputs": [
    {
     "data": {
      "text/latex": [
       "$\\displaystyle a^{4} b^{4}$"
      ],
      "text/plain": [
       "a**4*b**4"
      ]
     },
     "execution_count": 16,
     "metadata": {},
     "output_type": "execute_result"
    }
   ],
   "source": [
    "(a * b) ** 4"
   ]
  },
  {
   "cell_type": "code",
   "execution_count": 17,
   "id": "68ad31b9-500b-44ff-9996-e49ea5ca632a",
   "metadata": {},
   "outputs": [
    {
     "data": {
      "text/latex": [
       "$\\displaystyle a^{13} b^{13}$"
      ],
      "text/plain": [
       "a**13*b**13"
      ]
     },
     "execution_count": 17,
     "metadata": {},
     "output_type": "execute_result"
    }
   ],
   "source": [
    "(a * b) ** 13"
   ]
  },
  {
   "cell_type": "markdown",
   "id": "1432183f-408f-4b20-bfd6-3a84162b683d",
   "metadata": {},
   "source": [
    "#### 演習問題"
   ]
  },
  {
   "cell_type": "markdown",
   "id": "a919731a-2c6a-466a-a2ac-58fc49801d2c",
   "metadata": {},
   "source": [
    "(1) $(2a)^{3}$"
   ]
  },
  {
   "cell_type": "code",
   "execution_count": 18,
   "id": "7bfcc576-3036-43bd-9fbc-a847842cded4",
   "metadata": {},
   "outputs": [
    {
     "data": {
      "text/latex": [
       "$\\displaystyle 8 a^{3}$"
      ],
      "text/plain": [
       "8*a**3"
      ]
     },
     "execution_count": 18,
     "metadata": {},
     "output_type": "execute_result"
    }
   ],
   "source": [
    "(2 * a) ** 3"
   ]
  },
  {
   "cell_type": "markdown",
   "id": "a6cd567b-5fd7-4b50-bef2-4f56f8a4a8a1",
   "metadata": {},
   "source": [
    "(2) $a^{2} \\times a^{9}$"
   ]
  },
  {
   "cell_type": "code",
   "execution_count": 19,
   "id": "3b809b6c-991b-4055-9453-2362ff928149",
   "metadata": {},
   "outputs": [
    {
     "data": {
      "text/latex": [
       "$\\displaystyle a^{11}$"
      ],
      "text/plain": [
       "a**11"
      ]
     },
     "execution_count": 19,
     "metadata": {},
     "output_type": "execute_result"
    }
   ],
   "source": [
    "(a ** 2) * (a ** 9)"
   ]
  },
  {
   "cell_type": "markdown",
   "id": "972e64e5-fd91-4be6-ac0f-5d0cd55dcd1e",
   "metadata": {},
   "source": [
    "(3) ${\\displaystyle \\frac{a^{5} \\times a^{4}}{a^{3} \\times a^{2}}}$"
   ]
  },
  {
   "cell_type": "code",
   "execution_count": 20,
   "id": "a37fffd3-c492-4b3d-b2ef-168a3b24a24c",
   "metadata": {},
   "outputs": [
    {
     "data": {
      "text/latex": [
       "$\\displaystyle a^{4}$"
      ],
      "text/plain": [
       "a**4"
      ]
     },
     "execution_count": 20,
     "metadata": {},
     "output_type": "execute_result"
    }
   ],
   "source": [
    "((a ** 5) * (a ** 4)) / ((a ** 3) * (a ** 2))"
   ]
  },
  {
   "cell_type": "code",
   "execution_count": null,
   "id": "49829208-a76d-4e31-a0fe-c9d475835a01",
   "metadata": {},
   "outputs": [],
   "source": []
  }
 ],
 "metadata": {
  "kernelspec": {
   "display_name": "Python 3 (ipykernel)",
   "language": "python",
   "name": "python3"
  },
  "language_info": {
   "codemirror_mode": {
    "name": "ipython",
    "version": 3
   },
   "file_extension": ".py",
   "mimetype": "text/x-python",
   "name": "python",
   "nbconvert_exporter": "python",
   "pygments_lexer": "ipython3",
   "version": "3.11.4"
  }
 },
 "nbformat": 4,
 "nbformat_minor": 5
}
